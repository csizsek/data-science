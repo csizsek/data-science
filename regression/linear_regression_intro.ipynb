{
 "cells": [
  {
   "cell_type": "markdown",
   "metadata": {},
   "source": [
    "# Linear regression"
   ]
  },
  {
   "cell_type": "code",
   "execution_count": 1,
   "metadata": {},
   "outputs": [],
   "source": [
    "# Notebook setup\n",
    "\n",
    "# Imports\n",
    "import matplotlib.pyplot as plt\n",
    "import numpy as np\n",
    "import pandas as pd\n",
    "import plotly.express as px\n",
    "import plotly.graph_objects as go\n",
    "from sklearn import linear_model, metrics\n",
    "from statsmodels.graphics.gofplots import qqplot\n",
    "\n",
    "# Set the random seed for reproducability\n",
    "np.random.seed(1337)"
   ]
  },
  {
   "cell_type": "markdown",
   "metadata": {},
   "source": [
    "### Problem setting\n",
    "\n",
    "Given a data set $\\{y_i, x_{i1}, x_{i2}, ..., x_{ip}\\}_{i=1}^n$ a linear regression model assumes that the relationship between the dependent variable $y$ and the vector of regressors $\\bold{x}$ is linear.\n",
    "\n",
    "This relationship is modeled through a disturbance term $\\epsilon$, an unobserved random variable that adds \"noise\" to the linear relationship between the dependent variable and regressors.\n",
    "\n",
    "The model takes the following form:\n",
    "\n",
    "$y_i = \\beta_0 + \\beta_1 x_{i1} + ... + \\beta_p x_{ip} + \\epsilon_i = \\bold x_i^T \\bold\\beta + \\epsilon_i$ where $(i=1,..., n)$\n",
    "\n",
    "Using matrix notation this can be rewrtitten the following way:\n",
    "\n",
    "$\\bold{y = X \\beta + \\epsilon}$\n",
    "\n",
    "Where:\n",
    "\n",
    "$\\bold y = \\begin{bmatrix} y_1 \\\\ y_2 \\\\ \\vdots \\\\ y_n \\end{bmatrix}$ are the observed values AKA the endogenous variable,\n",
    "\n",
    "$\\bold X = \\begin{bmatrix} 1 & x_{11} & ... & x_{1p} \\\\ 1 & x_{21} & ... & x_{2p} \\\\ \\vdots & \\vdots & & \\vdots \\\\ 1 & x_{n1} & ... & x_{np} \\end{bmatrix}$ are the regressors AKA exogenous variables,\n",
    "\n",
    "$\\bold \\beta = \\begin{bmatrix} \\beta_0 \\\\ \\beta_1 \\\\ \\beta_2 \\\\ \\vdots \\\\ \\beta_p \\end{bmatrix}$ is the parameter vector, AKA the regression coefficients where $\\beta_0$ is the intercept term,\n",
    "\n",
    "$\\bold \\epsilon = \\begin{bmatrix} \\epsilon_1 \\\\ \\epsilon_2 \\\\ \\vdots \\\\ \\epsilon_n \\end{bmatrix}$ is the error term AKA noise or disturbance term.\n",
    "\n",
    "Linear regerssion modelling is possible if the following assumptions hold true for the data:\n",
    "\n",
    "1. The predictor variables can be treated as error free\n",
    "2. The the endogenous variable is a linear combination of the exogenous variables and the coefficients\n",
    "3. The variance of the errors does not depend on the exogenous variables and can be treated as constant throughout the data set\n",
    "4. The errors are independent of each other\n",
    "5. There must not be a perfect multicollinearity between the columns of the exogenous variables\n",
    "\n",
    "### Evaluation\n",
    "\n",
    "A list of metrics that can be used to evaluate the regression:\n",
    "\n",
    "Residual sum of squares: $RSS = \\sum \\limits_{i=1}^{n} ( \\hat y_i - \\bar y )^2$\n",
    "\n",
    "Total sum of squares: $TSS = \\sum \\limits_{i=1}^{n} ( y_i - \\bar y )^2$\n",
    "\n",
    "Explained sum of squares: $ESS = TSS - RSS$\n",
    "\n",
    "$R^2$ score: $R^2 = 1 - \\frac{RSS}{TSS}$\n",
    "\n",
    "Mean absolute error: $MAE = \\frac{1}{n} \\sum \\limits_{i=1}^{n} | \\hat y_i - y_i |$\n",
    "\n",
    "Mean squared error: $MSE = \\frac{1}{n} \\sum \\limits_{i=1}^{n} | \\hat y_i - y_i | ^ 2$\n",
    "\n",
    "Explained variance score: $1 - \\frac{Var(y - \\hat y)}{Var(y)}$\n"
   ]
  },
  {
   "cell_type": "markdown",
   "metadata": {},
   "source": [
    "### A simple example"
   ]
  },
  {
   "cell_type": "code",
   "execution_count": 2,
   "metadata": {},
   "outputs": [
    {
     "data": {
      "application/vnd.plotly.v1+json": {
       "config": {
        "plotlyServerURL": "https://plot.ly"
       },
       "data": [
        {
         "hovertemplate": "x: %{x:0.3f}<br>y: %{y:0.3f}",
         "marker": {
          "color": "blue",
          "size": 6,
          "symbol": "circle"
         },
         "mode": "markers",
         "name": "Data sample",
         "type": "scatter",
         "x": [
          -0.7031873098624105,
          -0.49028236278771464,
          -0.3218143296501526,
          -1.7550787171239868,
          0.20666447021383047,
          -2.011264572814634,
          -0.5572507081239421,
          0.3372170084417056,
          1.5488359716694058,
          -1.3707365582609627,
          1.4252913986629026,
          -0.2794639098029346,
          -0.559627906760132,
          1.186383367445606,
          1.6985189051376623,
          -1.6912201576405048,
          -0.6995228442321605,
          0.582962841937446,
          0.9782226298198076,
          -1.2173721054718658,
          -1.3293954484318342,
          -0.001454742266428668,
          -1.3146526837845254,
          -0.37961174341756554,
          1.265210647376645,
          0.12066774406890175,
          0.14794177849860185,
          -2.7537257920074936,
          -0.3568963241881448,
          0.00771783656034255,
          1.4782771611306014,
          -0.957614628561729,
          1.3290081066145112,
          -0.9858496301914452,
          0.47155720186813443,
          -0.008746529498673312,
          0.36701868900629514,
          1.1185547440864663,
          -0.008389935119820476,
          0.46631537869506084,
          1.2632687003334995,
          -0.9016546538618192,
          -1.0288426927914085,
          0.5696784209487935,
          0.6416647796503595,
          0.2598119299882401,
          1.1931781372550891,
          -1.0463003622367857,
          0.13988892063047142,
          -1.7306558398878829
         ],
         "y": [
          1.6418751892608563,
          1.689345817714272,
          1.730527214256624,
          1.0691515711189454,
          2.1016741428930628,
          1.0676875009716502,
          1.7652068007334767,
          2.202107983229652,
          2.809290461390506,
          1.301992449176267,
          2.741045054674905,
          1.8754874379759745,
          1.6701845668048652,
          2.4703707923821994,
          2.861874803669116,
          1.1925459423719902,
          1.5710658451886046,
          2.3013835350457477,
          2.4933739263986463,
          1.4233393347764085,
          1.2957693680407627,
          2.0378317486277617,
          1.245139769771451,
          1.7454936175451425,
          2.5789291353922756,
          2.0618684266315706,
          2.1126763565010487,
          0.5795672888518628,
          1.8298690386123648,
          2.035648407139591,
          2.7932221792411225,
          1.5070540026396684,
          2.742243450353107,
          1.464159778145379,
          2.2217960793466625,
          1.9913555636238358,
          2.1725294621766165,
          2.450597428352402,
          2.04112165380903,
          2.2706746181033886,
          2.6028713633021727,
          1.5307250118549764,
          1.5238660658830712,
          2.2298061311331137,
          2.35752387284721,
          2.128327263886477,
          2.532891975590193,
          1.4933677514413992,
          2.04281870135729,
          1.0820706517250847
         ]
        },
        {
         "hovertemplate": "x: %{x:0.3f}<br>y: %{y:0.3f}",
         "line": {
          "color": "blue",
          "dash": "solid",
          "width": 1
         },
         "mode": "lines",
         "name": "True relationsip",
         "type": "scatter",
         "x": [
          -0.7031873098624105,
          -0.49028236278771464,
          -0.3218143296501526,
          -1.7550787171239868,
          0.20666447021383047,
          -2.011264572814634,
          -0.5572507081239421,
          0.3372170084417056,
          1.5488359716694058,
          -1.3707365582609627,
          1.4252913986629026,
          -0.2794639098029346,
          -0.559627906760132,
          1.186383367445606,
          1.6985189051376623,
          -1.6912201576405048,
          -0.6995228442321605,
          0.582962841937446,
          0.9782226298198076,
          -1.2173721054718658,
          -1.3293954484318342,
          -0.001454742266428668,
          -1.3146526837845254,
          -0.37961174341756554,
          1.265210647376645,
          0.12066774406890175,
          0.14794177849860185,
          -2.7537257920074936,
          -0.3568963241881448,
          0.00771783656034255,
          1.4782771611306014,
          -0.957614628561729,
          1.3290081066145112,
          -0.9858496301914452,
          0.47155720186813443,
          -0.008746529498673312,
          0.36701868900629514,
          1.1185547440864663,
          -0.008389935119820476,
          0.46631537869506084,
          1.2632687003334995,
          -0.9016546538618192,
          -1.0288426927914085,
          0.5696784209487935,
          0.6416647796503595,
          0.2598119299882401,
          1.1931781372550891,
          -1.0463003622367857,
          0.13988892063047142,
          -1.7306558398878829
         ],
         "y": [
          1.6484063450687947,
          1.7548588186061427,
          1.8390928351749236,
          1.1224606414380065,
          2.1033322351069152,
          0.994367713592683,
          1.721374645938029,
          2.168608504220853,
          2.774417985834703,
          1.3146317208695186,
          2.712645699331451,
          1.8602680450985327,
          1.7201860466199341,
          2.593191683722803,
          2.8492594525688313,
          1.1543899211797477,
          1.6502385778839197,
          2.291481420968723,
          2.489111314909904,
          1.391313947264067,
          1.335302275784083,
          1.9992726288667857,
          1.3426736581077372,
          1.8101941282912173,
          2.6326053236883222,
          2.060333872034451,
          2.073970889249301,
          0.6231371039962532,
          1.8215518379059277,
          2.003858918280171,
          2.739138580565301,
          1.5211926857191356,
          2.6645040533072555,
          1.5070751849042774,
          2.235778600934067,
          1.9956267352506634,
          2.1835093445031477,
          2.5592773720432334,
          1.9958050324400898,
          2.2331576893475305,
          2.63163435016675,
          1.5491726730690905,
          1.4855786536042959,
          2.284839210474397,
          2.32083238982518,
          2.12990596499412,
          2.5965890686275443,
          1.476849818881607,
          2.0699444603152357,
          1.1346720800560586
         ]
        }
       ],
       "layout": {
        "height": 700,
        "legend": {
         "title": {
          "text": "Legend"
         }
        },
        "showlegend": true,
        "template": {
         "data": {
          "bar": [
           {
            "error_x": {
             "color": "#2a3f5f"
            },
            "error_y": {
             "color": "#2a3f5f"
            },
            "marker": {
             "line": {
              "color": "white",
              "width": 0.5
             },
             "pattern": {
              "fillmode": "overlay",
              "size": 10,
              "solidity": 0.2
             }
            },
            "type": "bar"
           }
          ],
          "barpolar": [
           {
            "marker": {
             "line": {
              "color": "white",
              "width": 0.5
             },
             "pattern": {
              "fillmode": "overlay",
              "size": 10,
              "solidity": 0.2
             }
            },
            "type": "barpolar"
           }
          ],
          "carpet": [
           {
            "aaxis": {
             "endlinecolor": "#2a3f5f",
             "gridcolor": "#C8D4E3",
             "linecolor": "#C8D4E3",
             "minorgridcolor": "#C8D4E3",
             "startlinecolor": "#2a3f5f"
            },
            "baxis": {
             "endlinecolor": "#2a3f5f",
             "gridcolor": "#C8D4E3",
             "linecolor": "#C8D4E3",
             "minorgridcolor": "#C8D4E3",
             "startlinecolor": "#2a3f5f"
            },
            "type": "carpet"
           }
          ],
          "choropleth": [
           {
            "colorbar": {
             "outlinewidth": 0,
             "ticks": ""
            },
            "type": "choropleth"
           }
          ],
          "contour": [
           {
            "colorbar": {
             "outlinewidth": 0,
             "ticks": ""
            },
            "colorscale": [
             [
              0,
              "#0d0887"
             ],
             [
              0.1111111111111111,
              "#46039f"
             ],
             [
              0.2222222222222222,
              "#7201a8"
             ],
             [
              0.3333333333333333,
              "#9c179e"
             ],
             [
              0.4444444444444444,
              "#bd3786"
             ],
             [
              0.5555555555555556,
              "#d8576b"
             ],
             [
              0.6666666666666666,
              "#ed7953"
             ],
             [
              0.7777777777777778,
              "#fb9f3a"
             ],
             [
              0.8888888888888888,
              "#fdca26"
             ],
             [
              1,
              "#f0f921"
             ]
            ],
            "type": "contour"
           }
          ],
          "contourcarpet": [
           {
            "colorbar": {
             "outlinewidth": 0,
             "ticks": ""
            },
            "type": "contourcarpet"
           }
          ],
          "heatmap": [
           {
            "colorbar": {
             "outlinewidth": 0,
             "ticks": ""
            },
            "colorscale": [
             [
              0,
              "#0d0887"
             ],
             [
              0.1111111111111111,
              "#46039f"
             ],
             [
              0.2222222222222222,
              "#7201a8"
             ],
             [
              0.3333333333333333,
              "#9c179e"
             ],
             [
              0.4444444444444444,
              "#bd3786"
             ],
             [
              0.5555555555555556,
              "#d8576b"
             ],
             [
              0.6666666666666666,
              "#ed7953"
             ],
             [
              0.7777777777777778,
              "#fb9f3a"
             ],
             [
              0.8888888888888888,
              "#fdca26"
             ],
             [
              1,
              "#f0f921"
             ]
            ],
            "type": "heatmap"
           }
          ],
          "heatmapgl": [
           {
            "colorbar": {
             "outlinewidth": 0,
             "ticks": ""
            },
            "colorscale": [
             [
              0,
              "#0d0887"
             ],
             [
              0.1111111111111111,
              "#46039f"
             ],
             [
              0.2222222222222222,
              "#7201a8"
             ],
             [
              0.3333333333333333,
              "#9c179e"
             ],
             [
              0.4444444444444444,
              "#bd3786"
             ],
             [
              0.5555555555555556,
              "#d8576b"
             ],
             [
              0.6666666666666666,
              "#ed7953"
             ],
             [
              0.7777777777777778,
              "#fb9f3a"
             ],
             [
              0.8888888888888888,
              "#fdca26"
             ],
             [
              1,
              "#f0f921"
             ]
            ],
            "type": "heatmapgl"
           }
          ],
          "histogram": [
           {
            "marker": {
             "pattern": {
              "fillmode": "overlay",
              "size": 10,
              "solidity": 0.2
             }
            },
            "type": "histogram"
           }
          ],
          "histogram2d": [
           {
            "colorbar": {
             "outlinewidth": 0,
             "ticks": ""
            },
            "colorscale": [
             [
              0,
              "#0d0887"
             ],
             [
              0.1111111111111111,
              "#46039f"
             ],
             [
              0.2222222222222222,
              "#7201a8"
             ],
             [
              0.3333333333333333,
              "#9c179e"
             ],
             [
              0.4444444444444444,
              "#bd3786"
             ],
             [
              0.5555555555555556,
              "#d8576b"
             ],
             [
              0.6666666666666666,
              "#ed7953"
             ],
             [
              0.7777777777777778,
              "#fb9f3a"
             ],
             [
              0.8888888888888888,
              "#fdca26"
             ],
             [
              1,
              "#f0f921"
             ]
            ],
            "type": "histogram2d"
           }
          ],
          "histogram2dcontour": [
           {
            "colorbar": {
             "outlinewidth": 0,
             "ticks": ""
            },
            "colorscale": [
             [
              0,
              "#0d0887"
             ],
             [
              0.1111111111111111,
              "#46039f"
             ],
             [
              0.2222222222222222,
              "#7201a8"
             ],
             [
              0.3333333333333333,
              "#9c179e"
             ],
             [
              0.4444444444444444,
              "#bd3786"
             ],
             [
              0.5555555555555556,
              "#d8576b"
             ],
             [
              0.6666666666666666,
              "#ed7953"
             ],
             [
              0.7777777777777778,
              "#fb9f3a"
             ],
             [
              0.8888888888888888,
              "#fdca26"
             ],
             [
              1,
              "#f0f921"
             ]
            ],
            "type": "histogram2dcontour"
           }
          ],
          "mesh3d": [
           {
            "colorbar": {
             "outlinewidth": 0,
             "ticks": ""
            },
            "type": "mesh3d"
           }
          ],
          "parcoords": [
           {
            "line": {
             "colorbar": {
              "outlinewidth": 0,
              "ticks": ""
             }
            },
            "type": "parcoords"
           }
          ],
          "pie": [
           {
            "automargin": true,
            "type": "pie"
           }
          ],
          "scatter": [
           {
            "fillpattern": {
             "fillmode": "overlay",
             "size": 10,
             "solidity": 0.2
            },
            "type": "scatter"
           }
          ],
          "scatter3d": [
           {
            "line": {
             "colorbar": {
              "outlinewidth": 0,
              "ticks": ""
             }
            },
            "marker": {
             "colorbar": {
              "outlinewidth": 0,
              "ticks": ""
             }
            },
            "type": "scatter3d"
           }
          ],
          "scattercarpet": [
           {
            "marker": {
             "colorbar": {
              "outlinewidth": 0,
              "ticks": ""
             }
            },
            "type": "scattercarpet"
           }
          ],
          "scattergeo": [
           {
            "marker": {
             "colorbar": {
              "outlinewidth": 0,
              "ticks": ""
             }
            },
            "type": "scattergeo"
           }
          ],
          "scattergl": [
           {
            "marker": {
             "colorbar": {
              "outlinewidth": 0,
              "ticks": ""
             }
            },
            "type": "scattergl"
           }
          ],
          "scattermapbox": [
           {
            "marker": {
             "colorbar": {
              "outlinewidth": 0,
              "ticks": ""
             }
            },
            "type": "scattermapbox"
           }
          ],
          "scatterpolar": [
           {
            "marker": {
             "colorbar": {
              "outlinewidth": 0,
              "ticks": ""
             }
            },
            "type": "scatterpolar"
           }
          ],
          "scatterpolargl": [
           {
            "marker": {
             "colorbar": {
              "outlinewidth": 0,
              "ticks": ""
             }
            },
            "type": "scatterpolargl"
           }
          ],
          "scatterternary": [
           {
            "marker": {
             "colorbar": {
              "outlinewidth": 0,
              "ticks": ""
             }
            },
            "type": "scatterternary"
           }
          ],
          "surface": [
           {
            "colorbar": {
             "outlinewidth": 0,
             "ticks": ""
            },
            "colorscale": [
             [
              0,
              "#0d0887"
             ],
             [
              0.1111111111111111,
              "#46039f"
             ],
             [
              0.2222222222222222,
              "#7201a8"
             ],
             [
              0.3333333333333333,
              "#9c179e"
             ],
             [
              0.4444444444444444,
              "#bd3786"
             ],
             [
              0.5555555555555556,
              "#d8576b"
             ],
             [
              0.6666666666666666,
              "#ed7953"
             ],
             [
              0.7777777777777778,
              "#fb9f3a"
             ],
             [
              0.8888888888888888,
              "#fdca26"
             ],
             [
              1,
              "#f0f921"
             ]
            ],
            "type": "surface"
           }
          ],
          "table": [
           {
            "cells": {
             "fill": {
              "color": "#EBF0F8"
             },
             "line": {
              "color": "white"
             }
            },
            "header": {
             "fill": {
              "color": "#C8D4E3"
             },
             "line": {
              "color": "white"
             }
            },
            "type": "table"
           }
          ]
         },
         "layout": {
          "annotationdefaults": {
           "arrowcolor": "#2a3f5f",
           "arrowhead": 0,
           "arrowwidth": 1
          },
          "autotypenumbers": "strict",
          "coloraxis": {
           "colorbar": {
            "outlinewidth": 0,
            "ticks": ""
           }
          },
          "colorscale": {
           "diverging": [
            [
             0,
             "#8e0152"
            ],
            [
             0.1,
             "#c51b7d"
            ],
            [
             0.2,
             "#de77ae"
            ],
            [
             0.3,
             "#f1b6da"
            ],
            [
             0.4,
             "#fde0ef"
            ],
            [
             0.5,
             "#f7f7f7"
            ],
            [
             0.6,
             "#e6f5d0"
            ],
            [
             0.7,
             "#b8e186"
            ],
            [
             0.8,
             "#7fbc41"
            ],
            [
             0.9,
             "#4d9221"
            ],
            [
             1,
             "#276419"
            ]
           ],
           "sequential": [
            [
             0,
             "#0d0887"
            ],
            [
             0.1111111111111111,
             "#46039f"
            ],
            [
             0.2222222222222222,
             "#7201a8"
            ],
            [
             0.3333333333333333,
             "#9c179e"
            ],
            [
             0.4444444444444444,
             "#bd3786"
            ],
            [
             0.5555555555555556,
             "#d8576b"
            ],
            [
             0.6666666666666666,
             "#ed7953"
            ],
            [
             0.7777777777777778,
             "#fb9f3a"
            ],
            [
             0.8888888888888888,
             "#fdca26"
            ],
            [
             1,
             "#f0f921"
            ]
           ],
           "sequentialminus": [
            [
             0,
             "#0d0887"
            ],
            [
             0.1111111111111111,
             "#46039f"
            ],
            [
             0.2222222222222222,
             "#7201a8"
            ],
            [
             0.3333333333333333,
             "#9c179e"
            ],
            [
             0.4444444444444444,
             "#bd3786"
            ],
            [
             0.5555555555555556,
             "#d8576b"
            ],
            [
             0.6666666666666666,
             "#ed7953"
            ],
            [
             0.7777777777777778,
             "#fb9f3a"
            ],
            [
             0.8888888888888888,
             "#fdca26"
            ],
            [
             1,
             "#f0f921"
            ]
           ]
          },
          "colorway": [
           "#636efa",
           "#EF553B",
           "#00cc96",
           "#ab63fa",
           "#FFA15A",
           "#19d3f3",
           "#FF6692",
           "#B6E880",
           "#FF97FF",
           "#FECB52"
          ],
          "font": {
           "color": "#2a3f5f"
          },
          "geo": {
           "bgcolor": "white",
           "lakecolor": "white",
           "landcolor": "white",
           "showlakes": true,
           "showland": true,
           "subunitcolor": "#C8D4E3"
          },
          "hoverlabel": {
           "align": "left"
          },
          "hovermode": "closest",
          "mapbox": {
           "style": "light"
          },
          "paper_bgcolor": "white",
          "plot_bgcolor": "white",
          "polar": {
           "angularaxis": {
            "gridcolor": "#EBF0F8",
            "linecolor": "#EBF0F8",
            "ticks": ""
           },
           "bgcolor": "white",
           "radialaxis": {
            "gridcolor": "#EBF0F8",
            "linecolor": "#EBF0F8",
            "ticks": ""
           }
          },
          "scene": {
           "xaxis": {
            "backgroundcolor": "white",
            "gridcolor": "#DFE8F3",
            "gridwidth": 2,
            "linecolor": "#EBF0F8",
            "showbackground": true,
            "ticks": "",
            "zerolinecolor": "#EBF0F8"
           },
           "yaxis": {
            "backgroundcolor": "white",
            "gridcolor": "#DFE8F3",
            "gridwidth": 2,
            "linecolor": "#EBF0F8",
            "showbackground": true,
            "ticks": "",
            "zerolinecolor": "#EBF0F8"
           },
           "zaxis": {
            "backgroundcolor": "white",
            "gridcolor": "#DFE8F3",
            "gridwidth": 2,
            "linecolor": "#EBF0F8",
            "showbackground": true,
            "ticks": "",
            "zerolinecolor": "#EBF0F8"
           }
          },
          "shapedefaults": {
           "line": {
            "color": "#2a3f5f"
           }
          },
          "ternary": {
           "aaxis": {
            "gridcolor": "#DFE8F3",
            "linecolor": "#A2B1C6",
            "ticks": ""
           },
           "baxis": {
            "gridcolor": "#DFE8F3",
            "linecolor": "#A2B1C6",
            "ticks": ""
           },
           "bgcolor": "white",
           "caxis": {
            "gridcolor": "#DFE8F3",
            "linecolor": "#A2B1C6",
            "ticks": ""
           }
          },
          "title": {
           "x": 0.05
          },
          "xaxis": {
           "automargin": true,
           "gridcolor": "#EBF0F8",
           "linecolor": "#EBF0F8",
           "ticks": "",
           "title": {
            "standoff": 15
           },
           "zerolinecolor": "#EBF0F8",
           "zerolinewidth": 2
          },
          "yaxis": {
           "automargin": true,
           "gridcolor": "#EBF0F8",
           "linecolor": "#EBF0F8",
           "ticks": "",
           "title": {
            "standoff": 15
           },
           "zerolinecolor": "#EBF0F8",
           "zerolinewidth": 2
          }
         }
        },
        "title": {
         "text": "A simple data set for linear regression with y = 2 + 0.5x1 + e"
        },
        "width": 800,
        "xaxis": {
         "title": {
          "text": "x1: exogenous variable"
         }
        },
        "yaxis": {
         "title": {
          "text": "y: endogenous variable"
         }
        }
       }
      }
     },
     "metadata": {},
     "output_type": "display_data"
    }
   ],
   "source": [
    "# Generate a simple data set where y ~= 2 + 0.5x + e\n",
    "\n",
    "# Generate a sample\n",
    "n = 50\n",
    "X = pd.DataFrame({\"x1\": np.random.randn(n)})\n",
    "b = [2, 0.5]\n",
    "y_noerror = b[0] + pd.Series(np.dot(X, b[1:]))\n",
    "y = pd.Series(y_noerror + 0.05 * np.random.randn(n))\n",
    "\n",
    "# # Plot the sample data\n",
    "fig = go.Figure()\n",
    "fig.add_trace(\n",
    "    go.Scatter(\n",
    "        x=X.x1,\n",
    "        y=y,\n",
    "        name=\"Data sample\",\n",
    "        mode=\"markers\",\n",
    "        marker=dict(color=\"blue\", size=6, symbol=\"circle\"),\n",
    "    )\n",
    ")\n",
    "fig.add_trace(\n",
    "    go.Scatter(\n",
    "        x=X.x1,\n",
    "        y=y_noerror,\n",
    "        name=\"True relationsip\",\n",
    "        mode=\"lines\",\n",
    "        line=dict(color=\"blue\", width=1, dash=\"solid\"),\n",
    "    )\n",
    ")\n",
    "fig.update_traces(hovertemplate=\"x: %{x:0.3f}\" + \"<br>y: %{y:0.3f}\")\n",
    "fig.update_layout(\n",
    "    template=\"plotly_white\",\n",
    "    width=800,\n",
    "    height=700,\n",
    "    title=\"A simple data set for linear regression with y = 2 + 0.5x1 + e\",\n",
    "    legend_title=\"Legend\",\n",
    "    showlegend=True,\n",
    ")\n",
    "fig.update_xaxes(title=\"x1: exogenous variable\", range=None, dtick=None)\n",
    "fig.update_yaxes(title=\"y: endogenous variable\", range=None, dtick=None)\n",
    "fig.show()"
   ]
  },
  {
   "cell_type": "code",
   "execution_count": 3,
   "metadata": {},
   "outputs": [
    {
     "name": "stdout",
     "output_type": "stream",
     "text": [
      "Estimated beta_0 (intercept):               1.991\n",
      "Estimated beta_1 (coefficient for x1):      0.5042\n",
      "TSS:                                        14.19\n",
      "RSS:                                        14.08\n",
      "ESS:                                        0.1162\n",
      "R^2 calculated from RSS and TSS:            0.008186 (note that the R^2 score below is 1-R^2)\n",
      "MAE:                                        0.03927\n",
      "MSE:                                        0.002324\n",
      "R^2 score:                                  0.9918\n",
      "Explained variance score:                   0.9918\n"
     ]
    },
    {
     "data": {
      "application/vnd.plotly.v1+json": {
       "config": {
        "plotlyServerURL": "https://plot.ly"
       },
       "data": [
        {
         "hovertemplate": "x: %{x:0.3f}<br>y: %{y:0.3f}",
         "marker": {
          "color": "blue",
          "size": 6,
          "symbol": "circle"
         },
         "mode": "markers",
         "name": "Data sample",
         "type": "scatter",
         "x": [
          -0.7031873098624105,
          -0.49028236278771464,
          -0.3218143296501526,
          -1.7550787171239868,
          0.20666447021383047,
          -2.011264572814634,
          -0.5572507081239421,
          0.3372170084417056,
          1.5488359716694058,
          -1.3707365582609627,
          1.4252913986629026,
          -0.2794639098029346,
          -0.559627906760132,
          1.186383367445606,
          1.6985189051376623,
          -1.6912201576405048,
          -0.6995228442321605,
          0.582962841937446,
          0.9782226298198076,
          -1.2173721054718658,
          -1.3293954484318342,
          -0.001454742266428668,
          -1.3146526837845254,
          -0.37961174341756554,
          1.265210647376645,
          0.12066774406890175,
          0.14794177849860185,
          -2.7537257920074936,
          -0.3568963241881448,
          0.00771783656034255,
          1.4782771611306014,
          -0.957614628561729,
          1.3290081066145112,
          -0.9858496301914452,
          0.47155720186813443,
          -0.008746529498673312,
          0.36701868900629514,
          1.1185547440864663,
          -0.008389935119820476,
          0.46631537869506084,
          1.2632687003334995,
          -0.9016546538618192,
          -1.0288426927914085,
          0.5696784209487935,
          0.6416647796503595,
          0.2598119299882401,
          1.1931781372550891,
          -1.0463003622367857,
          0.13988892063047142,
          -1.7306558398878829
         ],
         "y": [
          1.6418751892608563,
          1.689345817714272,
          1.730527214256624,
          1.0691515711189454,
          2.1016741428930628,
          1.0676875009716502,
          1.7652068007334767,
          2.202107983229652,
          2.809290461390506,
          1.301992449176267,
          2.741045054674905,
          1.8754874379759745,
          1.6701845668048652,
          2.4703707923821994,
          2.861874803669116,
          1.1925459423719902,
          1.5710658451886046,
          2.3013835350457477,
          2.4933739263986463,
          1.4233393347764085,
          1.2957693680407627,
          2.0378317486277617,
          1.245139769771451,
          1.7454936175451425,
          2.5789291353922756,
          2.0618684266315706,
          2.1126763565010487,
          0.5795672888518628,
          1.8298690386123648,
          2.035648407139591,
          2.7932221792411225,
          1.5070540026396684,
          2.742243450353107,
          1.464159778145379,
          2.2217960793466625,
          1.9913555636238358,
          2.1725294621766165,
          2.450597428352402,
          2.04112165380903,
          2.2706746181033886,
          2.6028713633021727,
          1.5307250118549764,
          1.5238660658830712,
          2.2298061311331137,
          2.35752387284721,
          2.128327263886477,
          2.532891975590193,
          1.4933677514413992,
          2.04281870135729,
          1.0820706517250847
         ]
        },
        {
         "hovertemplate": "x: %{x:0.3f}<br>y: %{y:0.3f}",
         "line": {
          "color": "blue",
          "dash": "solid",
          "width": 1
         },
         "mode": "lines",
         "name": "True relationsip",
         "type": "scatter",
         "x": [
          -0.7031873098624105,
          -0.49028236278771464,
          -0.3218143296501526,
          -1.7550787171239868,
          0.20666447021383047,
          -2.011264572814634,
          -0.5572507081239421,
          0.3372170084417056,
          1.5488359716694058,
          -1.3707365582609627,
          1.4252913986629026,
          -0.2794639098029346,
          -0.559627906760132,
          1.186383367445606,
          1.6985189051376623,
          -1.6912201576405048,
          -0.6995228442321605,
          0.582962841937446,
          0.9782226298198076,
          -1.2173721054718658,
          -1.3293954484318342,
          -0.001454742266428668,
          -1.3146526837845254,
          -0.37961174341756554,
          1.265210647376645,
          0.12066774406890175,
          0.14794177849860185,
          -2.7537257920074936,
          -0.3568963241881448,
          0.00771783656034255,
          1.4782771611306014,
          -0.957614628561729,
          1.3290081066145112,
          -0.9858496301914452,
          0.47155720186813443,
          -0.008746529498673312,
          0.36701868900629514,
          1.1185547440864663,
          -0.008389935119820476,
          0.46631537869506084,
          1.2632687003334995,
          -0.9016546538618192,
          -1.0288426927914085,
          0.5696784209487935,
          0.6416647796503595,
          0.2598119299882401,
          1.1931781372550891,
          -1.0463003622367857,
          0.13988892063047142,
          -1.7306558398878829
         ],
         "y": [
          1.6484063450687947,
          1.7548588186061427,
          1.8390928351749236,
          1.1224606414380065,
          2.1033322351069152,
          0.994367713592683,
          1.721374645938029,
          2.168608504220853,
          2.774417985834703,
          1.3146317208695186,
          2.712645699331451,
          1.8602680450985327,
          1.7201860466199341,
          2.593191683722803,
          2.8492594525688313,
          1.1543899211797477,
          1.6502385778839197,
          2.291481420968723,
          2.489111314909904,
          1.391313947264067,
          1.335302275784083,
          1.9992726288667857,
          1.3426736581077372,
          1.8101941282912173,
          2.6326053236883222,
          2.060333872034451,
          2.073970889249301,
          0.6231371039962532,
          1.8215518379059277,
          2.003858918280171,
          2.739138580565301,
          1.5211926857191356,
          2.6645040533072555,
          1.5070751849042774,
          2.235778600934067,
          1.9956267352506634,
          2.1835093445031477,
          2.5592773720432334,
          1.9958050324400898,
          2.2331576893475305,
          2.63163435016675,
          1.5491726730690905,
          1.4855786536042959,
          2.284839210474397,
          2.32083238982518,
          2.12990596499412,
          2.5965890686275443,
          1.476849818881607,
          2.0699444603152357,
          1.1346720800560586
         ]
        },
        {
         "hovertemplate": "x: %{x:0.3f}<br>y: %{y:0.3f}",
         "line": {
          "color": "red",
          "dash": "solid",
          "width": 1
         },
         "mode": "lines",
         "name": "Estimated relationsip",
         "type": "scatter",
         "x": [
          -2.7537257920074936,
          -2.6628636553310616,
          -2.57200151865463,
          -2.481139381978198,
          -2.3902772453017667,
          -2.2994151086253347,
          -2.2085529719489028,
          -2.1176908352724713,
          -2.0268286985960398,
          -1.9359665619196078,
          -1.845104425243176,
          -1.7542422885667444,
          -1.6633801518903124,
          -1.5725180152138807,
          -1.481655878537449,
          -1.3907937418610172,
          -1.2999316051845855,
          -1.2090694685081538,
          -1.118207331831722,
          -1.0273451951552903,
          -0.9364830584788586,
          -0.8456209218024267,
          -0.7547587851259949,
          -0.6638966484495632,
          -0.5730345117731312,
          -0.48217237509669975,
          -0.3913102384202678,
          -0.3004481017438363,
          -0.20958596506740435,
          -0.11872382839097284,
          -0.027861691714540893,
          0.06300044496189061,
          0.15386258163832256,
          0.2447247183147545,
          0.335586854991186,
          0.42644899166761796,
          0.5173111283440495,
          0.6081732650204814,
          0.6990354016969129,
          0.7898975383733449,
          0.8807596750497764,
          0.9716218117262083,
          1.0624839484026403,
          1.1533460850790718,
          1.2442082217555037,
          1.3350703584319357,
          1.4259324951083672,
          1.5167946317847987,
          1.607656768461231,
          1.6985189051376623
         ],
         "y": [
          0.6022134050843866,
          0.6480270477502248,
          0.693840690416063,
          0.7396543330819012,
          0.7854679757477394,
          0.8312816184135776,
          0.877095261079416,
          0.9229089037452542,
          0.9687225464110922,
          1.0145361890769307,
          1.0603498317427689,
          1.106163474408607,
          1.1519771170744453,
          1.1977907597402835,
          1.2436044024061217,
          1.2894180450719601,
          1.3352316877377983,
          1.3810453304036365,
          1.4268589730694747,
          1.472672615735313,
          1.5184862584011511,
          1.5642999010669896,
          1.6101135437328278,
          1.655927186398666,
          1.7017408290645042,
          1.7475544717303424,
          1.7933681143961808,
          1.8391817570620188,
          1.8849953997278572,
          1.9308090423936952,
          1.9766226850595336,
          2.0224363277253716,
          2.0682499703912103,
          2.1140636130570485,
          2.1598772557228867,
          2.205690898388725,
          2.251504541054563,
          2.2973181837204013,
          2.3431318263862395,
          2.3889454690520777,
          2.434759111717916,
          2.480572754383754,
          2.526386397049593,
          2.5722000397154305,
          2.618013682381269,
          2.6638273250471074,
          2.7096409677129456,
          2.7554546103787834,
          2.801268253044622,
          2.84708189571046
         ]
        }
       ],
       "layout": {
        "height": 700,
        "legend": {
         "title": {
          "text": "Legend"
         }
        },
        "showlegend": true,
        "template": {
         "data": {
          "bar": [
           {
            "error_x": {
             "color": "#2a3f5f"
            },
            "error_y": {
             "color": "#2a3f5f"
            },
            "marker": {
             "line": {
              "color": "white",
              "width": 0.5
             },
             "pattern": {
              "fillmode": "overlay",
              "size": 10,
              "solidity": 0.2
             }
            },
            "type": "bar"
           }
          ],
          "barpolar": [
           {
            "marker": {
             "line": {
              "color": "white",
              "width": 0.5
             },
             "pattern": {
              "fillmode": "overlay",
              "size": 10,
              "solidity": 0.2
             }
            },
            "type": "barpolar"
           }
          ],
          "carpet": [
           {
            "aaxis": {
             "endlinecolor": "#2a3f5f",
             "gridcolor": "#C8D4E3",
             "linecolor": "#C8D4E3",
             "minorgridcolor": "#C8D4E3",
             "startlinecolor": "#2a3f5f"
            },
            "baxis": {
             "endlinecolor": "#2a3f5f",
             "gridcolor": "#C8D4E3",
             "linecolor": "#C8D4E3",
             "minorgridcolor": "#C8D4E3",
             "startlinecolor": "#2a3f5f"
            },
            "type": "carpet"
           }
          ],
          "choropleth": [
           {
            "colorbar": {
             "outlinewidth": 0,
             "ticks": ""
            },
            "type": "choropleth"
           }
          ],
          "contour": [
           {
            "colorbar": {
             "outlinewidth": 0,
             "ticks": ""
            },
            "colorscale": [
             [
              0,
              "#0d0887"
             ],
             [
              0.1111111111111111,
              "#46039f"
             ],
             [
              0.2222222222222222,
              "#7201a8"
             ],
             [
              0.3333333333333333,
              "#9c179e"
             ],
             [
              0.4444444444444444,
              "#bd3786"
             ],
             [
              0.5555555555555556,
              "#d8576b"
             ],
             [
              0.6666666666666666,
              "#ed7953"
             ],
             [
              0.7777777777777778,
              "#fb9f3a"
             ],
             [
              0.8888888888888888,
              "#fdca26"
             ],
             [
              1,
              "#f0f921"
             ]
            ],
            "type": "contour"
           }
          ],
          "contourcarpet": [
           {
            "colorbar": {
             "outlinewidth": 0,
             "ticks": ""
            },
            "type": "contourcarpet"
           }
          ],
          "heatmap": [
           {
            "colorbar": {
             "outlinewidth": 0,
             "ticks": ""
            },
            "colorscale": [
             [
              0,
              "#0d0887"
             ],
             [
              0.1111111111111111,
              "#46039f"
             ],
             [
              0.2222222222222222,
              "#7201a8"
             ],
             [
              0.3333333333333333,
              "#9c179e"
             ],
             [
              0.4444444444444444,
              "#bd3786"
             ],
             [
              0.5555555555555556,
              "#d8576b"
             ],
             [
              0.6666666666666666,
              "#ed7953"
             ],
             [
              0.7777777777777778,
              "#fb9f3a"
             ],
             [
              0.8888888888888888,
              "#fdca26"
             ],
             [
              1,
              "#f0f921"
             ]
            ],
            "type": "heatmap"
           }
          ],
          "heatmapgl": [
           {
            "colorbar": {
             "outlinewidth": 0,
             "ticks": ""
            },
            "colorscale": [
             [
              0,
              "#0d0887"
             ],
             [
              0.1111111111111111,
              "#46039f"
             ],
             [
              0.2222222222222222,
              "#7201a8"
             ],
             [
              0.3333333333333333,
              "#9c179e"
             ],
             [
              0.4444444444444444,
              "#bd3786"
             ],
             [
              0.5555555555555556,
              "#d8576b"
             ],
             [
              0.6666666666666666,
              "#ed7953"
             ],
             [
              0.7777777777777778,
              "#fb9f3a"
             ],
             [
              0.8888888888888888,
              "#fdca26"
             ],
             [
              1,
              "#f0f921"
             ]
            ],
            "type": "heatmapgl"
           }
          ],
          "histogram": [
           {
            "marker": {
             "pattern": {
              "fillmode": "overlay",
              "size": 10,
              "solidity": 0.2
             }
            },
            "type": "histogram"
           }
          ],
          "histogram2d": [
           {
            "colorbar": {
             "outlinewidth": 0,
             "ticks": ""
            },
            "colorscale": [
             [
              0,
              "#0d0887"
             ],
             [
              0.1111111111111111,
              "#46039f"
             ],
             [
              0.2222222222222222,
              "#7201a8"
             ],
             [
              0.3333333333333333,
              "#9c179e"
             ],
             [
              0.4444444444444444,
              "#bd3786"
             ],
             [
              0.5555555555555556,
              "#d8576b"
             ],
             [
              0.6666666666666666,
              "#ed7953"
             ],
             [
              0.7777777777777778,
              "#fb9f3a"
             ],
             [
              0.8888888888888888,
              "#fdca26"
             ],
             [
              1,
              "#f0f921"
             ]
            ],
            "type": "histogram2d"
           }
          ],
          "histogram2dcontour": [
           {
            "colorbar": {
             "outlinewidth": 0,
             "ticks": ""
            },
            "colorscale": [
             [
              0,
              "#0d0887"
             ],
             [
              0.1111111111111111,
              "#46039f"
             ],
             [
              0.2222222222222222,
              "#7201a8"
             ],
             [
              0.3333333333333333,
              "#9c179e"
             ],
             [
              0.4444444444444444,
              "#bd3786"
             ],
             [
              0.5555555555555556,
              "#d8576b"
             ],
             [
              0.6666666666666666,
              "#ed7953"
             ],
             [
              0.7777777777777778,
              "#fb9f3a"
             ],
             [
              0.8888888888888888,
              "#fdca26"
             ],
             [
              1,
              "#f0f921"
             ]
            ],
            "type": "histogram2dcontour"
           }
          ],
          "mesh3d": [
           {
            "colorbar": {
             "outlinewidth": 0,
             "ticks": ""
            },
            "type": "mesh3d"
           }
          ],
          "parcoords": [
           {
            "line": {
             "colorbar": {
              "outlinewidth": 0,
              "ticks": ""
             }
            },
            "type": "parcoords"
           }
          ],
          "pie": [
           {
            "automargin": true,
            "type": "pie"
           }
          ],
          "scatter": [
           {
            "fillpattern": {
             "fillmode": "overlay",
             "size": 10,
             "solidity": 0.2
            },
            "type": "scatter"
           }
          ],
          "scatter3d": [
           {
            "line": {
             "colorbar": {
              "outlinewidth": 0,
              "ticks": ""
             }
            },
            "marker": {
             "colorbar": {
              "outlinewidth": 0,
              "ticks": ""
             }
            },
            "type": "scatter3d"
           }
          ],
          "scattercarpet": [
           {
            "marker": {
             "colorbar": {
              "outlinewidth": 0,
              "ticks": ""
             }
            },
            "type": "scattercarpet"
           }
          ],
          "scattergeo": [
           {
            "marker": {
             "colorbar": {
              "outlinewidth": 0,
              "ticks": ""
             }
            },
            "type": "scattergeo"
           }
          ],
          "scattergl": [
           {
            "marker": {
             "colorbar": {
              "outlinewidth": 0,
              "ticks": ""
             }
            },
            "type": "scattergl"
           }
          ],
          "scattermapbox": [
           {
            "marker": {
             "colorbar": {
              "outlinewidth": 0,
              "ticks": ""
             }
            },
            "type": "scattermapbox"
           }
          ],
          "scatterpolar": [
           {
            "marker": {
             "colorbar": {
              "outlinewidth": 0,
              "ticks": ""
             }
            },
            "type": "scatterpolar"
           }
          ],
          "scatterpolargl": [
           {
            "marker": {
             "colorbar": {
              "outlinewidth": 0,
              "ticks": ""
             }
            },
            "type": "scatterpolargl"
           }
          ],
          "scatterternary": [
           {
            "marker": {
             "colorbar": {
              "outlinewidth": 0,
              "ticks": ""
             }
            },
            "type": "scatterternary"
           }
          ],
          "surface": [
           {
            "colorbar": {
             "outlinewidth": 0,
             "ticks": ""
            },
            "colorscale": [
             [
              0,
              "#0d0887"
             ],
             [
              0.1111111111111111,
              "#46039f"
             ],
             [
              0.2222222222222222,
              "#7201a8"
             ],
             [
              0.3333333333333333,
              "#9c179e"
             ],
             [
              0.4444444444444444,
              "#bd3786"
             ],
             [
              0.5555555555555556,
              "#d8576b"
             ],
             [
              0.6666666666666666,
              "#ed7953"
             ],
             [
              0.7777777777777778,
              "#fb9f3a"
             ],
             [
              0.8888888888888888,
              "#fdca26"
             ],
             [
              1,
              "#f0f921"
             ]
            ],
            "type": "surface"
           }
          ],
          "table": [
           {
            "cells": {
             "fill": {
              "color": "#EBF0F8"
             },
             "line": {
              "color": "white"
             }
            },
            "header": {
             "fill": {
              "color": "#C8D4E3"
             },
             "line": {
              "color": "white"
             }
            },
            "type": "table"
           }
          ]
         },
         "layout": {
          "annotationdefaults": {
           "arrowcolor": "#2a3f5f",
           "arrowhead": 0,
           "arrowwidth": 1
          },
          "autotypenumbers": "strict",
          "coloraxis": {
           "colorbar": {
            "outlinewidth": 0,
            "ticks": ""
           }
          },
          "colorscale": {
           "diverging": [
            [
             0,
             "#8e0152"
            ],
            [
             0.1,
             "#c51b7d"
            ],
            [
             0.2,
             "#de77ae"
            ],
            [
             0.3,
             "#f1b6da"
            ],
            [
             0.4,
             "#fde0ef"
            ],
            [
             0.5,
             "#f7f7f7"
            ],
            [
             0.6,
             "#e6f5d0"
            ],
            [
             0.7,
             "#b8e186"
            ],
            [
             0.8,
             "#7fbc41"
            ],
            [
             0.9,
             "#4d9221"
            ],
            [
             1,
             "#276419"
            ]
           ],
           "sequential": [
            [
             0,
             "#0d0887"
            ],
            [
             0.1111111111111111,
             "#46039f"
            ],
            [
             0.2222222222222222,
             "#7201a8"
            ],
            [
             0.3333333333333333,
             "#9c179e"
            ],
            [
             0.4444444444444444,
             "#bd3786"
            ],
            [
             0.5555555555555556,
             "#d8576b"
            ],
            [
             0.6666666666666666,
             "#ed7953"
            ],
            [
             0.7777777777777778,
             "#fb9f3a"
            ],
            [
             0.8888888888888888,
             "#fdca26"
            ],
            [
             1,
             "#f0f921"
            ]
           ],
           "sequentialminus": [
            [
             0,
             "#0d0887"
            ],
            [
             0.1111111111111111,
             "#46039f"
            ],
            [
             0.2222222222222222,
             "#7201a8"
            ],
            [
             0.3333333333333333,
             "#9c179e"
            ],
            [
             0.4444444444444444,
             "#bd3786"
            ],
            [
             0.5555555555555556,
             "#d8576b"
            ],
            [
             0.6666666666666666,
             "#ed7953"
            ],
            [
             0.7777777777777778,
             "#fb9f3a"
            ],
            [
             0.8888888888888888,
             "#fdca26"
            ],
            [
             1,
             "#f0f921"
            ]
           ]
          },
          "colorway": [
           "#636efa",
           "#EF553B",
           "#00cc96",
           "#ab63fa",
           "#FFA15A",
           "#19d3f3",
           "#FF6692",
           "#B6E880",
           "#FF97FF",
           "#FECB52"
          ],
          "font": {
           "color": "#2a3f5f"
          },
          "geo": {
           "bgcolor": "white",
           "lakecolor": "white",
           "landcolor": "white",
           "showlakes": true,
           "showland": true,
           "subunitcolor": "#C8D4E3"
          },
          "hoverlabel": {
           "align": "left"
          },
          "hovermode": "closest",
          "mapbox": {
           "style": "light"
          },
          "paper_bgcolor": "white",
          "plot_bgcolor": "white",
          "polar": {
           "angularaxis": {
            "gridcolor": "#EBF0F8",
            "linecolor": "#EBF0F8",
            "ticks": ""
           },
           "bgcolor": "white",
           "radialaxis": {
            "gridcolor": "#EBF0F8",
            "linecolor": "#EBF0F8",
            "ticks": ""
           }
          },
          "scene": {
           "xaxis": {
            "backgroundcolor": "white",
            "gridcolor": "#DFE8F3",
            "gridwidth": 2,
            "linecolor": "#EBF0F8",
            "showbackground": true,
            "ticks": "",
            "zerolinecolor": "#EBF0F8"
           },
           "yaxis": {
            "backgroundcolor": "white",
            "gridcolor": "#DFE8F3",
            "gridwidth": 2,
            "linecolor": "#EBF0F8",
            "showbackground": true,
            "ticks": "",
            "zerolinecolor": "#EBF0F8"
           },
           "zaxis": {
            "backgroundcolor": "white",
            "gridcolor": "#DFE8F3",
            "gridwidth": 2,
            "linecolor": "#EBF0F8",
            "showbackground": true,
            "ticks": "",
            "zerolinecolor": "#EBF0F8"
           }
          },
          "shapedefaults": {
           "line": {
            "color": "#2a3f5f"
           }
          },
          "ternary": {
           "aaxis": {
            "gridcolor": "#DFE8F3",
            "linecolor": "#A2B1C6",
            "ticks": ""
           },
           "baxis": {
            "gridcolor": "#DFE8F3",
            "linecolor": "#A2B1C6",
            "ticks": ""
           },
           "bgcolor": "white",
           "caxis": {
            "gridcolor": "#DFE8F3",
            "linecolor": "#A2B1C6",
            "ticks": ""
           }
          },
          "title": {
           "x": 0.05
          },
          "xaxis": {
           "automargin": true,
           "gridcolor": "#EBF0F8",
           "linecolor": "#EBF0F8",
           "ticks": "",
           "title": {
            "standoff": 15
           },
           "zerolinecolor": "#EBF0F8",
           "zerolinewidth": 2
          },
          "yaxis": {
           "automargin": true,
           "gridcolor": "#EBF0F8",
           "linecolor": "#EBF0F8",
           "ticks": "",
           "title": {
            "standoff": 15
           },
           "zerolinecolor": "#EBF0F8",
           "zerolinewidth": 2
          }
         }
        },
        "title": {
         "text": "A simple data set for linear regression with y = 2 + 0.5x1 + e"
        },
        "width": 800,
        "xaxis": {
         "title": {
          "text": "x1: exogenous variable"
         }
        },
        "yaxis": {
         "title": {
          "text": "y: endogenous variable"
         }
        }
       }
      }
     },
     "metadata": {},
     "output_type": "display_data"
    },
    {
     "data": {
      "application/vnd.plotly.v1+json": {
       "config": {
        "plotlyServerURL": "https://plot.ly"
       },
       "data": [
        {
         "hovertemplate": "x: %{x:0.3f}<br>y: %{y:0.3f}",
         "marker": {
          "color": "red",
          "size": 6,
          "symbol": "circle"
         },
         "mode": "markers",
         "name": "Residuals",
         "type": "scatter",
         "x": [
          -0.7031873098624105,
          -0.49028236278771464,
          -0.3218143296501526,
          -1.7550787171239868,
          0.20666447021383047,
          -2.011264572814634,
          -0.5572507081239421,
          0.3372170084417056,
          1.5488359716694058,
          -1.3707365582609627,
          1.4252913986629026,
          -0.2794639098029346,
          -0.559627906760132,
          1.186383367445606,
          1.6985189051376623,
          -1.6912201576405048,
          -0.6995228442321605,
          0.582962841937446,
          0.9782226298198076,
          -1.2173721054718658,
          -1.3293954484318342,
          -0.001454742266428668,
          -1.3146526837845254,
          -0.37961174341756554,
          1.265210647376645,
          0.12066774406890175,
          0.14794177849860185,
          -2.7537257920074936,
          -0.3568963241881448,
          0.00771783656034255,
          1.4782771611306014,
          -0.957614628561729,
          1.3290081066145112,
          -0.9858496301914452,
          0.47155720186813443,
          -0.008746529498673312,
          0.36701868900629514,
          1.1185547440864663,
          -0.008389935119820476,
          0.46631537869506084,
          1.2632687003334995,
          -0.9016546538618192,
          -1.0288426927914085,
          0.5696784209487935,
          0.6416647796503595,
          0.2598119299882401,
          1.1931781372550891,
          -1.0463003622367857,
          0.13988892063047142,
          -1.7306558398878829
         ],
         "y": [
          -0.005758766596293929,
          0.05411951312976693,
          0.09788146651397267,
          0.0365901672350335,
          -0.006800906268370266,
          -0.09111735903796192,
          -0.05550761226051182,
          -0.04140878703294071,
          -0.03768027125427631,
          -0.002461361686998842,
          -0.03172733451634446,
          -0.025725231164734685,
          0.03831601317343103,
          0.11848699173980082,
          -0.014792907958655732,
          -0.05460604830272464,
          0.06689823949543405,
          -0.016776711159352864,
          -0.009472970274278847,
          -0.046480281043705274,
          0.02460634078803592,
          -0.04789440258662614,
          0.08266939567815745,
          0.05377300077562075,
          0.04967419035110421,
          -0.01035564163334346,
          -0.04741171717577952,
          0.022646116232523772,
          -0.019149067578938084,
          -0.04108615061246934,
          -0.05718848170337498,
          0.0007774964067441825,
          -0.08147277627936234,
          0.029435336828979253,
          0.006638851914426258,
          -0.005094813212880078,
          0.0031960540491917655,
          0.10406045219306925,
          -0.05468110477075849,
          -0.044882669084989946,
          0.024752812366545918,
          0.0053220935844566775,
          -0.051948504168096266,
          0.04810254830655758,
          -0.04331891604711613,
          -0.006656520403975907,
          0.05939180276257083,
          -0.03025252983203952,
          0.018385602537797308,
          0.03598535758370347
         ]
        }
       ],
       "layout": {
        "height": 700,
        "legend": {
         "title": {
          "text": "Legend"
         }
        },
        "showlegend": true,
        "template": {
         "data": {
          "bar": [
           {
            "error_x": {
             "color": "#2a3f5f"
            },
            "error_y": {
             "color": "#2a3f5f"
            },
            "marker": {
             "line": {
              "color": "white",
              "width": 0.5
             },
             "pattern": {
              "fillmode": "overlay",
              "size": 10,
              "solidity": 0.2
             }
            },
            "type": "bar"
           }
          ],
          "barpolar": [
           {
            "marker": {
             "line": {
              "color": "white",
              "width": 0.5
             },
             "pattern": {
              "fillmode": "overlay",
              "size": 10,
              "solidity": 0.2
             }
            },
            "type": "barpolar"
           }
          ],
          "carpet": [
           {
            "aaxis": {
             "endlinecolor": "#2a3f5f",
             "gridcolor": "#C8D4E3",
             "linecolor": "#C8D4E3",
             "minorgridcolor": "#C8D4E3",
             "startlinecolor": "#2a3f5f"
            },
            "baxis": {
             "endlinecolor": "#2a3f5f",
             "gridcolor": "#C8D4E3",
             "linecolor": "#C8D4E3",
             "minorgridcolor": "#C8D4E3",
             "startlinecolor": "#2a3f5f"
            },
            "type": "carpet"
           }
          ],
          "choropleth": [
           {
            "colorbar": {
             "outlinewidth": 0,
             "ticks": ""
            },
            "type": "choropleth"
           }
          ],
          "contour": [
           {
            "colorbar": {
             "outlinewidth": 0,
             "ticks": ""
            },
            "colorscale": [
             [
              0,
              "#0d0887"
             ],
             [
              0.1111111111111111,
              "#46039f"
             ],
             [
              0.2222222222222222,
              "#7201a8"
             ],
             [
              0.3333333333333333,
              "#9c179e"
             ],
             [
              0.4444444444444444,
              "#bd3786"
             ],
             [
              0.5555555555555556,
              "#d8576b"
             ],
             [
              0.6666666666666666,
              "#ed7953"
             ],
             [
              0.7777777777777778,
              "#fb9f3a"
             ],
             [
              0.8888888888888888,
              "#fdca26"
             ],
             [
              1,
              "#f0f921"
             ]
            ],
            "type": "contour"
           }
          ],
          "contourcarpet": [
           {
            "colorbar": {
             "outlinewidth": 0,
             "ticks": ""
            },
            "type": "contourcarpet"
           }
          ],
          "heatmap": [
           {
            "colorbar": {
             "outlinewidth": 0,
             "ticks": ""
            },
            "colorscale": [
             [
              0,
              "#0d0887"
             ],
             [
              0.1111111111111111,
              "#46039f"
             ],
             [
              0.2222222222222222,
              "#7201a8"
             ],
             [
              0.3333333333333333,
              "#9c179e"
             ],
             [
              0.4444444444444444,
              "#bd3786"
             ],
             [
              0.5555555555555556,
              "#d8576b"
             ],
             [
              0.6666666666666666,
              "#ed7953"
             ],
             [
              0.7777777777777778,
              "#fb9f3a"
             ],
             [
              0.8888888888888888,
              "#fdca26"
             ],
             [
              1,
              "#f0f921"
             ]
            ],
            "type": "heatmap"
           }
          ],
          "heatmapgl": [
           {
            "colorbar": {
             "outlinewidth": 0,
             "ticks": ""
            },
            "colorscale": [
             [
              0,
              "#0d0887"
             ],
             [
              0.1111111111111111,
              "#46039f"
             ],
             [
              0.2222222222222222,
              "#7201a8"
             ],
             [
              0.3333333333333333,
              "#9c179e"
             ],
             [
              0.4444444444444444,
              "#bd3786"
             ],
             [
              0.5555555555555556,
              "#d8576b"
             ],
             [
              0.6666666666666666,
              "#ed7953"
             ],
             [
              0.7777777777777778,
              "#fb9f3a"
             ],
             [
              0.8888888888888888,
              "#fdca26"
             ],
             [
              1,
              "#f0f921"
             ]
            ],
            "type": "heatmapgl"
           }
          ],
          "histogram": [
           {
            "marker": {
             "pattern": {
              "fillmode": "overlay",
              "size": 10,
              "solidity": 0.2
             }
            },
            "type": "histogram"
           }
          ],
          "histogram2d": [
           {
            "colorbar": {
             "outlinewidth": 0,
             "ticks": ""
            },
            "colorscale": [
             [
              0,
              "#0d0887"
             ],
             [
              0.1111111111111111,
              "#46039f"
             ],
             [
              0.2222222222222222,
              "#7201a8"
             ],
             [
              0.3333333333333333,
              "#9c179e"
             ],
             [
              0.4444444444444444,
              "#bd3786"
             ],
             [
              0.5555555555555556,
              "#d8576b"
             ],
             [
              0.6666666666666666,
              "#ed7953"
             ],
             [
              0.7777777777777778,
              "#fb9f3a"
             ],
             [
              0.8888888888888888,
              "#fdca26"
             ],
             [
              1,
              "#f0f921"
             ]
            ],
            "type": "histogram2d"
           }
          ],
          "histogram2dcontour": [
           {
            "colorbar": {
             "outlinewidth": 0,
             "ticks": ""
            },
            "colorscale": [
             [
              0,
              "#0d0887"
             ],
             [
              0.1111111111111111,
              "#46039f"
             ],
             [
              0.2222222222222222,
              "#7201a8"
             ],
             [
              0.3333333333333333,
              "#9c179e"
             ],
             [
              0.4444444444444444,
              "#bd3786"
             ],
             [
              0.5555555555555556,
              "#d8576b"
             ],
             [
              0.6666666666666666,
              "#ed7953"
             ],
             [
              0.7777777777777778,
              "#fb9f3a"
             ],
             [
              0.8888888888888888,
              "#fdca26"
             ],
             [
              1,
              "#f0f921"
             ]
            ],
            "type": "histogram2dcontour"
           }
          ],
          "mesh3d": [
           {
            "colorbar": {
             "outlinewidth": 0,
             "ticks": ""
            },
            "type": "mesh3d"
           }
          ],
          "parcoords": [
           {
            "line": {
             "colorbar": {
              "outlinewidth": 0,
              "ticks": ""
             }
            },
            "type": "parcoords"
           }
          ],
          "pie": [
           {
            "automargin": true,
            "type": "pie"
           }
          ],
          "scatter": [
           {
            "fillpattern": {
             "fillmode": "overlay",
             "size": 10,
             "solidity": 0.2
            },
            "type": "scatter"
           }
          ],
          "scatter3d": [
           {
            "line": {
             "colorbar": {
              "outlinewidth": 0,
              "ticks": ""
             }
            },
            "marker": {
             "colorbar": {
              "outlinewidth": 0,
              "ticks": ""
             }
            },
            "type": "scatter3d"
           }
          ],
          "scattercarpet": [
           {
            "marker": {
             "colorbar": {
              "outlinewidth": 0,
              "ticks": ""
             }
            },
            "type": "scattercarpet"
           }
          ],
          "scattergeo": [
           {
            "marker": {
             "colorbar": {
              "outlinewidth": 0,
              "ticks": ""
             }
            },
            "type": "scattergeo"
           }
          ],
          "scattergl": [
           {
            "marker": {
             "colorbar": {
              "outlinewidth": 0,
              "ticks": ""
             }
            },
            "type": "scattergl"
           }
          ],
          "scattermapbox": [
           {
            "marker": {
             "colorbar": {
              "outlinewidth": 0,
              "ticks": ""
             }
            },
            "type": "scattermapbox"
           }
          ],
          "scatterpolar": [
           {
            "marker": {
             "colorbar": {
              "outlinewidth": 0,
              "ticks": ""
             }
            },
            "type": "scatterpolar"
           }
          ],
          "scatterpolargl": [
           {
            "marker": {
             "colorbar": {
              "outlinewidth": 0,
              "ticks": ""
             }
            },
            "type": "scatterpolargl"
           }
          ],
          "scatterternary": [
           {
            "marker": {
             "colorbar": {
              "outlinewidth": 0,
              "ticks": ""
             }
            },
            "type": "scatterternary"
           }
          ],
          "surface": [
           {
            "colorbar": {
             "outlinewidth": 0,
             "ticks": ""
            },
            "colorscale": [
             [
              0,
              "#0d0887"
             ],
             [
              0.1111111111111111,
              "#46039f"
             ],
             [
              0.2222222222222222,
              "#7201a8"
             ],
             [
              0.3333333333333333,
              "#9c179e"
             ],
             [
              0.4444444444444444,
              "#bd3786"
             ],
             [
              0.5555555555555556,
              "#d8576b"
             ],
             [
              0.6666666666666666,
              "#ed7953"
             ],
             [
              0.7777777777777778,
              "#fb9f3a"
             ],
             [
              0.8888888888888888,
              "#fdca26"
             ],
             [
              1,
              "#f0f921"
             ]
            ],
            "type": "surface"
           }
          ],
          "table": [
           {
            "cells": {
             "fill": {
              "color": "#EBF0F8"
             },
             "line": {
              "color": "white"
             }
            },
            "header": {
             "fill": {
              "color": "#C8D4E3"
             },
             "line": {
              "color": "white"
             }
            },
            "type": "table"
           }
          ]
         },
         "layout": {
          "annotationdefaults": {
           "arrowcolor": "#2a3f5f",
           "arrowhead": 0,
           "arrowwidth": 1
          },
          "autotypenumbers": "strict",
          "coloraxis": {
           "colorbar": {
            "outlinewidth": 0,
            "ticks": ""
           }
          },
          "colorscale": {
           "diverging": [
            [
             0,
             "#8e0152"
            ],
            [
             0.1,
             "#c51b7d"
            ],
            [
             0.2,
             "#de77ae"
            ],
            [
             0.3,
             "#f1b6da"
            ],
            [
             0.4,
             "#fde0ef"
            ],
            [
             0.5,
             "#f7f7f7"
            ],
            [
             0.6,
             "#e6f5d0"
            ],
            [
             0.7,
             "#b8e186"
            ],
            [
             0.8,
             "#7fbc41"
            ],
            [
             0.9,
             "#4d9221"
            ],
            [
             1,
             "#276419"
            ]
           ],
           "sequential": [
            [
             0,
             "#0d0887"
            ],
            [
             0.1111111111111111,
             "#46039f"
            ],
            [
             0.2222222222222222,
             "#7201a8"
            ],
            [
             0.3333333333333333,
             "#9c179e"
            ],
            [
             0.4444444444444444,
             "#bd3786"
            ],
            [
             0.5555555555555556,
             "#d8576b"
            ],
            [
             0.6666666666666666,
             "#ed7953"
            ],
            [
             0.7777777777777778,
             "#fb9f3a"
            ],
            [
             0.8888888888888888,
             "#fdca26"
            ],
            [
             1,
             "#f0f921"
            ]
           ],
           "sequentialminus": [
            [
             0,
             "#0d0887"
            ],
            [
             0.1111111111111111,
             "#46039f"
            ],
            [
             0.2222222222222222,
             "#7201a8"
            ],
            [
             0.3333333333333333,
             "#9c179e"
            ],
            [
             0.4444444444444444,
             "#bd3786"
            ],
            [
             0.5555555555555556,
             "#d8576b"
            ],
            [
             0.6666666666666666,
             "#ed7953"
            ],
            [
             0.7777777777777778,
             "#fb9f3a"
            ],
            [
             0.8888888888888888,
             "#fdca26"
            ],
            [
             1,
             "#f0f921"
            ]
           ]
          },
          "colorway": [
           "#636efa",
           "#EF553B",
           "#00cc96",
           "#ab63fa",
           "#FFA15A",
           "#19d3f3",
           "#FF6692",
           "#B6E880",
           "#FF97FF",
           "#FECB52"
          ],
          "font": {
           "color": "#2a3f5f"
          },
          "geo": {
           "bgcolor": "white",
           "lakecolor": "white",
           "landcolor": "white",
           "showlakes": true,
           "showland": true,
           "subunitcolor": "#C8D4E3"
          },
          "hoverlabel": {
           "align": "left"
          },
          "hovermode": "closest",
          "mapbox": {
           "style": "light"
          },
          "paper_bgcolor": "white",
          "plot_bgcolor": "white",
          "polar": {
           "angularaxis": {
            "gridcolor": "#EBF0F8",
            "linecolor": "#EBF0F8",
            "ticks": ""
           },
           "bgcolor": "white",
           "radialaxis": {
            "gridcolor": "#EBF0F8",
            "linecolor": "#EBF0F8",
            "ticks": ""
           }
          },
          "scene": {
           "xaxis": {
            "backgroundcolor": "white",
            "gridcolor": "#DFE8F3",
            "gridwidth": 2,
            "linecolor": "#EBF0F8",
            "showbackground": true,
            "ticks": "",
            "zerolinecolor": "#EBF0F8"
           },
           "yaxis": {
            "backgroundcolor": "white",
            "gridcolor": "#DFE8F3",
            "gridwidth": 2,
            "linecolor": "#EBF0F8",
            "showbackground": true,
            "ticks": "",
            "zerolinecolor": "#EBF0F8"
           },
           "zaxis": {
            "backgroundcolor": "white",
            "gridcolor": "#DFE8F3",
            "gridwidth": 2,
            "linecolor": "#EBF0F8",
            "showbackground": true,
            "ticks": "",
            "zerolinecolor": "#EBF0F8"
           }
          },
          "shapedefaults": {
           "line": {
            "color": "#2a3f5f"
           }
          },
          "ternary": {
           "aaxis": {
            "gridcolor": "#DFE8F3",
            "linecolor": "#A2B1C6",
            "ticks": ""
           },
           "baxis": {
            "gridcolor": "#DFE8F3",
            "linecolor": "#A2B1C6",
            "ticks": ""
           },
           "bgcolor": "white",
           "caxis": {
            "gridcolor": "#DFE8F3",
            "linecolor": "#A2B1C6",
            "ticks": ""
           }
          },
          "title": {
           "x": 0.05
          },
          "xaxis": {
           "automargin": true,
           "gridcolor": "#EBF0F8",
           "linecolor": "#EBF0F8",
           "ticks": "",
           "title": {
            "standoff": 15
           },
           "zerolinecolor": "#EBF0F8",
           "zerolinewidth": 2
          },
          "yaxis": {
           "automargin": true,
           "gridcolor": "#EBF0F8",
           "linecolor": "#EBF0F8",
           "ticks": "",
           "title": {
            "standoff": 15
           },
           "zerolinecolor": "#EBF0F8",
           "zerolinewidth": 2
          }
         }
        },
        "title": {
         "text": "Residual plot"
        },
        "width": 800,
        "xaxis": {
         "title": {
          "text": "x1: exogenous variable"
         }
        },
        "yaxis": {
         "title": {
          "text": "Residuals"
         }
        }
       }
      }
     },
     "metadata": {},
     "output_type": "display_data"
    },
    {
     "data": {
      "application/vnd.plotly.v1+json": {
       "config": {
        "plotlyServerURL": "https://plot.ly"
       },
       "data": [
        {
         "hovertemplate": "x: %{x:0.3f}<br>y: %{y:0.3f}",
         "marker": {
          "color": "black",
          "size": 6,
          "symbol": "circle"
         },
         "mode": "markers",
         "name": "Quantiles",
         "type": "scatter",
         "x": [
          -2.0619165008094615,
          -1.7598610279335332,
          -1.5647264713617988,
          -1.4157020938005065,
          -1.2928052291994159,
          -1.1868314327558185,
          -1.0927358287257207,
          -1.0074356012873076,
          -0.9288994916472707,
          -0.8557124305929721,
          -0.7868450994550048,
          -0.7215222839823433,
          -0.6591430371132062,
          -0.5992298680993446,
          -0.5413950851290877,
          -0.48531773025496217,
          -0.43072729929545756,
          -0.37739194382855384,
          -0.32510971142528206,
          -0.2737018896129834,
          -0.2230078309403668,
          -0.17288083275076693,
          -0.12318477148587942,
          -0.07379127380827269,
          -0.024577261064027627,
          0.024577261064027488,
          0.07379127380827269,
          0.12318477148587956,
          0.17288083275076693,
          0.2230078309403668,
          0.27370188961298325,
          0.32510971142528206,
          0.37739194382855396,
          0.43072729929545744,
          0.48531773025496217,
          0.541395085129088,
          0.5992298680993446,
          0.6591430371132062,
          0.7215222839823432,
          0.7868450994550048,
          0.8557124305929721,
          0.9288994916472707,
          1.0074356012873076,
          1.0927358287257212,
          1.1868314327558185,
          1.2928052291994159,
          1.415702093800506,
          1.5647264713617985,
          1.7598610279335336,
          2.0619165008094615
         ],
         "y": [
          0.6022134050843866,
          0.9765701419336883,
          1.105741738353979,
          1.1180560093087881,
          1.1379398940692655,
          1.2995310874892683,
          1.3203757088287986,
          1.3278091654496085,
          1.3768590537327032,
          1.4631152216093597,
          1.471917561714975,
          1.4935951149743583,
          1.5078314990464126,
          1.5360471054394331,
          1.6361164226645624,
          1.6379640846840386,
          1.7085005799782962,
          1.7096991884729649,
          1.7434653308440389,
          1.7992666183207633,
          1.8107199710334267,
          1.8284086807705966,
          1.8497622068112398,
          1.9862607504109557,
          1.9864405490382715,
          1.9899373460411356,
          1.9945622565271217,
          2.051512784998227,
          2.0612043038950874,
          2.065264639325269,
          2.0948732366246925,
          2.1216707434825013,
          2.1606991961967115,
          2.1757255162258082,
          2.2257919490183986,
          2.2284349312610887,
          2.2779086794396712,
          2.284606823886395,
          2.314204956800094,
          2.4839009561243675,
          2.5546578805454714,
          2.588857784122,
          2.5922837783527637,
          2.6276241756687186,
          2.62860332574338,
          2.6607706740737447,
          2.7093177201585603,
          2.7360336975377475,
          2.77161019013623,
          2.84708189571046
         ]
        },
        {
         "hovertemplate": "x: %{x:0.3f}<br>y: %{y:0.3f}",
         "line": {
          "color": "grey",
          "dash": "solid",
          "width": 1
         },
         "mode": "lines",
         "name": "Quantile equality",
         "type": "scatter",
         "x": [
          -2.0619165008094615,
          -1.7598610279335332,
          -1.5647264713617988,
          -1.4157020938005065,
          -1.2928052291994159,
          -1.1868314327558185,
          -1.0927358287257207,
          -1.0074356012873076,
          -0.9288994916472707,
          -0.8557124305929721,
          -0.7868450994550048,
          -0.7215222839823433,
          -0.6591430371132062,
          -0.5992298680993446,
          -0.5413950851290877,
          -0.48531773025496217,
          -0.43072729929545756,
          -0.37739194382855384,
          -0.32510971142528206,
          -0.2737018896129834,
          -0.2230078309403668,
          -0.17288083275076693,
          -0.12318477148587942,
          -0.07379127380827269,
          -0.024577261064027627,
          0.024577261064027488,
          0.07379127380827269,
          0.12318477148587956,
          0.17288083275076693,
          0.2230078309403668,
          0.27370188961298325,
          0.32510971142528206,
          0.37739194382855396,
          0.43072729929545744,
          0.48531773025496217,
          0.541395085129088,
          0.5992298680993446,
          0.6591430371132062,
          0.7215222839823432,
          0.7868450994550048,
          0.8557124305929721,
          0.9288994916472707,
          1.0074356012873076,
          1.0927358287257212,
          1.1868314327558185,
          1.2928052291994159,
          1.415702093800506,
          1.5647264713617985,
          1.7598610279335336,
          2.0619165008094615
         ],
         "y": [
          0.8395802025046617,
          0.9998499329643127,
          1.1033877450335596,
          1.182459634035472,
          1.2476683428081272,
          1.3038977222333354,
          1.3538245682916297,
          1.3990846138373594,
          1.4407556387107556,
          1.4795884744035708,
          1.516129274323098,
          1.5507893648322653,
          1.5838876066446201,
          1.6156773549230077,
          1.6463643177831142,
          1.676118794551883,
          1.7050843139389453,
          1.7333838940235662,
          1.7611246901605162,
          1.7884015266532591,
          1.8152996425589534,
          1.8418968778684377,
          1.8682654593346024,
          1.8944735014663239,
          1.9205863094292435,
          1.9466675518491492,
          1.972780359812069,
          1.9989884019437907,
          2.025356983409955,
          2.0519542187194393,
          2.0788523346251337,
          2.1061291711178765,
          2.1338699672548267,
          2.1621695473394476,
          2.1911350667265097,
          2.2208895434952787,
          2.251576506355385,
          2.2833662546337727,
          2.3164644964461276,
          2.3511245869552946,
          2.387665386874822,
          2.4264982225676373,
          2.4681692474410335,
          2.513429292986763,
          2.5633561390450574,
          2.6195855184702657,
          2.6847942272429206,
          2.763866116244833,
          2.86740392831408,
          3.027673658773731
         ]
        }
       ],
       "layout": {
        "height": 700,
        "legend": {
         "title": {
          "text": "Legend"
         }
        },
        "showlegend": true,
        "template": {
         "data": {
          "bar": [
           {
            "error_x": {
             "color": "#2a3f5f"
            },
            "error_y": {
             "color": "#2a3f5f"
            },
            "marker": {
             "line": {
              "color": "white",
              "width": 0.5
             },
             "pattern": {
              "fillmode": "overlay",
              "size": 10,
              "solidity": 0.2
             }
            },
            "type": "bar"
           }
          ],
          "barpolar": [
           {
            "marker": {
             "line": {
              "color": "white",
              "width": 0.5
             },
             "pattern": {
              "fillmode": "overlay",
              "size": 10,
              "solidity": 0.2
             }
            },
            "type": "barpolar"
           }
          ],
          "carpet": [
           {
            "aaxis": {
             "endlinecolor": "#2a3f5f",
             "gridcolor": "#C8D4E3",
             "linecolor": "#C8D4E3",
             "minorgridcolor": "#C8D4E3",
             "startlinecolor": "#2a3f5f"
            },
            "baxis": {
             "endlinecolor": "#2a3f5f",
             "gridcolor": "#C8D4E3",
             "linecolor": "#C8D4E3",
             "minorgridcolor": "#C8D4E3",
             "startlinecolor": "#2a3f5f"
            },
            "type": "carpet"
           }
          ],
          "choropleth": [
           {
            "colorbar": {
             "outlinewidth": 0,
             "ticks": ""
            },
            "type": "choropleth"
           }
          ],
          "contour": [
           {
            "colorbar": {
             "outlinewidth": 0,
             "ticks": ""
            },
            "colorscale": [
             [
              0,
              "#0d0887"
             ],
             [
              0.1111111111111111,
              "#46039f"
             ],
             [
              0.2222222222222222,
              "#7201a8"
             ],
             [
              0.3333333333333333,
              "#9c179e"
             ],
             [
              0.4444444444444444,
              "#bd3786"
             ],
             [
              0.5555555555555556,
              "#d8576b"
             ],
             [
              0.6666666666666666,
              "#ed7953"
             ],
             [
              0.7777777777777778,
              "#fb9f3a"
             ],
             [
              0.8888888888888888,
              "#fdca26"
             ],
             [
              1,
              "#f0f921"
             ]
            ],
            "type": "contour"
           }
          ],
          "contourcarpet": [
           {
            "colorbar": {
             "outlinewidth": 0,
             "ticks": ""
            },
            "type": "contourcarpet"
           }
          ],
          "heatmap": [
           {
            "colorbar": {
             "outlinewidth": 0,
             "ticks": ""
            },
            "colorscale": [
             [
              0,
              "#0d0887"
             ],
             [
              0.1111111111111111,
              "#46039f"
             ],
             [
              0.2222222222222222,
              "#7201a8"
             ],
             [
              0.3333333333333333,
              "#9c179e"
             ],
             [
              0.4444444444444444,
              "#bd3786"
             ],
             [
              0.5555555555555556,
              "#d8576b"
             ],
             [
              0.6666666666666666,
              "#ed7953"
             ],
             [
              0.7777777777777778,
              "#fb9f3a"
             ],
             [
              0.8888888888888888,
              "#fdca26"
             ],
             [
              1,
              "#f0f921"
             ]
            ],
            "type": "heatmap"
           }
          ],
          "heatmapgl": [
           {
            "colorbar": {
             "outlinewidth": 0,
             "ticks": ""
            },
            "colorscale": [
             [
              0,
              "#0d0887"
             ],
             [
              0.1111111111111111,
              "#46039f"
             ],
             [
              0.2222222222222222,
              "#7201a8"
             ],
             [
              0.3333333333333333,
              "#9c179e"
             ],
             [
              0.4444444444444444,
              "#bd3786"
             ],
             [
              0.5555555555555556,
              "#d8576b"
             ],
             [
              0.6666666666666666,
              "#ed7953"
             ],
             [
              0.7777777777777778,
              "#fb9f3a"
             ],
             [
              0.8888888888888888,
              "#fdca26"
             ],
             [
              1,
              "#f0f921"
             ]
            ],
            "type": "heatmapgl"
           }
          ],
          "histogram": [
           {
            "marker": {
             "pattern": {
              "fillmode": "overlay",
              "size": 10,
              "solidity": 0.2
             }
            },
            "type": "histogram"
           }
          ],
          "histogram2d": [
           {
            "colorbar": {
             "outlinewidth": 0,
             "ticks": ""
            },
            "colorscale": [
             [
              0,
              "#0d0887"
             ],
             [
              0.1111111111111111,
              "#46039f"
             ],
             [
              0.2222222222222222,
              "#7201a8"
             ],
             [
              0.3333333333333333,
              "#9c179e"
             ],
             [
              0.4444444444444444,
              "#bd3786"
             ],
             [
              0.5555555555555556,
              "#d8576b"
             ],
             [
              0.6666666666666666,
              "#ed7953"
             ],
             [
              0.7777777777777778,
              "#fb9f3a"
             ],
             [
              0.8888888888888888,
              "#fdca26"
             ],
             [
              1,
              "#f0f921"
             ]
            ],
            "type": "histogram2d"
           }
          ],
          "histogram2dcontour": [
           {
            "colorbar": {
             "outlinewidth": 0,
             "ticks": ""
            },
            "colorscale": [
             [
              0,
              "#0d0887"
             ],
             [
              0.1111111111111111,
              "#46039f"
             ],
             [
              0.2222222222222222,
              "#7201a8"
             ],
             [
              0.3333333333333333,
              "#9c179e"
             ],
             [
              0.4444444444444444,
              "#bd3786"
             ],
             [
              0.5555555555555556,
              "#d8576b"
             ],
             [
              0.6666666666666666,
              "#ed7953"
             ],
             [
              0.7777777777777778,
              "#fb9f3a"
             ],
             [
              0.8888888888888888,
              "#fdca26"
             ],
             [
              1,
              "#f0f921"
             ]
            ],
            "type": "histogram2dcontour"
           }
          ],
          "mesh3d": [
           {
            "colorbar": {
             "outlinewidth": 0,
             "ticks": ""
            },
            "type": "mesh3d"
           }
          ],
          "parcoords": [
           {
            "line": {
             "colorbar": {
              "outlinewidth": 0,
              "ticks": ""
             }
            },
            "type": "parcoords"
           }
          ],
          "pie": [
           {
            "automargin": true,
            "type": "pie"
           }
          ],
          "scatter": [
           {
            "fillpattern": {
             "fillmode": "overlay",
             "size": 10,
             "solidity": 0.2
            },
            "type": "scatter"
           }
          ],
          "scatter3d": [
           {
            "line": {
             "colorbar": {
              "outlinewidth": 0,
              "ticks": ""
             }
            },
            "marker": {
             "colorbar": {
              "outlinewidth": 0,
              "ticks": ""
             }
            },
            "type": "scatter3d"
           }
          ],
          "scattercarpet": [
           {
            "marker": {
             "colorbar": {
              "outlinewidth": 0,
              "ticks": ""
             }
            },
            "type": "scattercarpet"
           }
          ],
          "scattergeo": [
           {
            "marker": {
             "colorbar": {
              "outlinewidth": 0,
              "ticks": ""
             }
            },
            "type": "scattergeo"
           }
          ],
          "scattergl": [
           {
            "marker": {
             "colorbar": {
              "outlinewidth": 0,
              "ticks": ""
             }
            },
            "type": "scattergl"
           }
          ],
          "scattermapbox": [
           {
            "marker": {
             "colorbar": {
              "outlinewidth": 0,
              "ticks": ""
             }
            },
            "type": "scattermapbox"
           }
          ],
          "scatterpolar": [
           {
            "marker": {
             "colorbar": {
              "outlinewidth": 0,
              "ticks": ""
             }
            },
            "type": "scatterpolar"
           }
          ],
          "scatterpolargl": [
           {
            "marker": {
             "colorbar": {
              "outlinewidth": 0,
              "ticks": ""
             }
            },
            "type": "scatterpolargl"
           }
          ],
          "scatterternary": [
           {
            "marker": {
             "colorbar": {
              "outlinewidth": 0,
              "ticks": ""
             }
            },
            "type": "scatterternary"
           }
          ],
          "surface": [
           {
            "colorbar": {
             "outlinewidth": 0,
             "ticks": ""
            },
            "colorscale": [
             [
              0,
              "#0d0887"
             ],
             [
              0.1111111111111111,
              "#46039f"
             ],
             [
              0.2222222222222222,
              "#7201a8"
             ],
             [
              0.3333333333333333,
              "#9c179e"
             ],
             [
              0.4444444444444444,
              "#bd3786"
             ],
             [
              0.5555555555555556,
              "#d8576b"
             ],
             [
              0.6666666666666666,
              "#ed7953"
             ],
             [
              0.7777777777777778,
              "#fb9f3a"
             ],
             [
              0.8888888888888888,
              "#fdca26"
             ],
             [
              1,
              "#f0f921"
             ]
            ],
            "type": "surface"
           }
          ],
          "table": [
           {
            "cells": {
             "fill": {
              "color": "#EBF0F8"
             },
             "line": {
              "color": "white"
             }
            },
            "header": {
             "fill": {
              "color": "#C8D4E3"
             },
             "line": {
              "color": "white"
             }
            },
            "type": "table"
           }
          ]
         },
         "layout": {
          "annotationdefaults": {
           "arrowcolor": "#2a3f5f",
           "arrowhead": 0,
           "arrowwidth": 1
          },
          "autotypenumbers": "strict",
          "coloraxis": {
           "colorbar": {
            "outlinewidth": 0,
            "ticks": ""
           }
          },
          "colorscale": {
           "diverging": [
            [
             0,
             "#8e0152"
            ],
            [
             0.1,
             "#c51b7d"
            ],
            [
             0.2,
             "#de77ae"
            ],
            [
             0.3,
             "#f1b6da"
            ],
            [
             0.4,
             "#fde0ef"
            ],
            [
             0.5,
             "#f7f7f7"
            ],
            [
             0.6,
             "#e6f5d0"
            ],
            [
             0.7,
             "#b8e186"
            ],
            [
             0.8,
             "#7fbc41"
            ],
            [
             0.9,
             "#4d9221"
            ],
            [
             1,
             "#276419"
            ]
           ],
           "sequential": [
            [
             0,
             "#0d0887"
            ],
            [
             0.1111111111111111,
             "#46039f"
            ],
            [
             0.2222222222222222,
             "#7201a8"
            ],
            [
             0.3333333333333333,
             "#9c179e"
            ],
            [
             0.4444444444444444,
             "#bd3786"
            ],
            [
             0.5555555555555556,
             "#d8576b"
            ],
            [
             0.6666666666666666,
             "#ed7953"
            ],
            [
             0.7777777777777778,
             "#fb9f3a"
            ],
            [
             0.8888888888888888,
             "#fdca26"
            ],
            [
             1,
             "#f0f921"
            ]
           ],
           "sequentialminus": [
            [
             0,
             "#0d0887"
            ],
            [
             0.1111111111111111,
             "#46039f"
            ],
            [
             0.2222222222222222,
             "#7201a8"
            ],
            [
             0.3333333333333333,
             "#9c179e"
            ],
            [
             0.4444444444444444,
             "#bd3786"
            ],
            [
             0.5555555555555556,
             "#d8576b"
            ],
            [
             0.6666666666666666,
             "#ed7953"
            ],
            [
             0.7777777777777778,
             "#fb9f3a"
            ],
            [
             0.8888888888888888,
             "#fdca26"
            ],
            [
             1,
             "#f0f921"
            ]
           ]
          },
          "colorway": [
           "#636efa",
           "#EF553B",
           "#00cc96",
           "#ab63fa",
           "#FFA15A",
           "#19d3f3",
           "#FF6692",
           "#B6E880",
           "#FF97FF",
           "#FECB52"
          ],
          "font": {
           "color": "#2a3f5f"
          },
          "geo": {
           "bgcolor": "white",
           "lakecolor": "white",
           "landcolor": "white",
           "showlakes": true,
           "showland": true,
           "subunitcolor": "#C8D4E3"
          },
          "hoverlabel": {
           "align": "left"
          },
          "hovermode": "closest",
          "mapbox": {
           "style": "light"
          },
          "paper_bgcolor": "white",
          "plot_bgcolor": "white",
          "polar": {
           "angularaxis": {
            "gridcolor": "#EBF0F8",
            "linecolor": "#EBF0F8",
            "ticks": ""
           },
           "bgcolor": "white",
           "radialaxis": {
            "gridcolor": "#EBF0F8",
            "linecolor": "#EBF0F8",
            "ticks": ""
           }
          },
          "scene": {
           "xaxis": {
            "backgroundcolor": "white",
            "gridcolor": "#DFE8F3",
            "gridwidth": 2,
            "linecolor": "#EBF0F8",
            "showbackground": true,
            "ticks": "",
            "zerolinecolor": "#EBF0F8"
           },
           "yaxis": {
            "backgroundcolor": "white",
            "gridcolor": "#DFE8F3",
            "gridwidth": 2,
            "linecolor": "#EBF0F8",
            "showbackground": true,
            "ticks": "",
            "zerolinecolor": "#EBF0F8"
           },
           "zaxis": {
            "backgroundcolor": "white",
            "gridcolor": "#DFE8F3",
            "gridwidth": 2,
            "linecolor": "#EBF0F8",
            "showbackground": true,
            "ticks": "",
            "zerolinecolor": "#EBF0F8"
           }
          },
          "shapedefaults": {
           "line": {
            "color": "#2a3f5f"
           }
          },
          "ternary": {
           "aaxis": {
            "gridcolor": "#DFE8F3",
            "linecolor": "#A2B1C6",
            "ticks": ""
           },
           "baxis": {
            "gridcolor": "#DFE8F3",
            "linecolor": "#A2B1C6",
            "ticks": ""
           },
           "bgcolor": "white",
           "caxis": {
            "gridcolor": "#DFE8F3",
            "linecolor": "#A2B1C6",
            "ticks": ""
           }
          },
          "title": {
           "x": 0.05
          },
          "xaxis": {
           "automargin": true,
           "gridcolor": "#EBF0F8",
           "linecolor": "#EBF0F8",
           "ticks": "",
           "title": {
            "standoff": 15
           },
           "zerolinecolor": "#EBF0F8",
           "zerolinewidth": 2
          },
          "yaxis": {
           "automargin": true,
           "gridcolor": "#EBF0F8",
           "linecolor": "#EBF0F8",
           "ticks": "",
           "title": {
            "standoff": 15
           },
           "zerolinecolor": "#EBF0F8",
           "zerolinewidth": 2
          }
         }
        },
        "title": {
         "text": "QQ plot of the data sample"
        },
        "width": 800,
        "xaxis": {
         "title": {
          "text": "Theoretical quantile"
         }
        },
        "yaxis": {
         "title": {
          "text": "Sample quantile"
         }
        }
       }
      }
     },
     "metadata": {},
     "output_type": "display_data"
    }
   ],
   "source": [
    "# Simple linear regression form Sklearn and calculate performance metrics\n",
    "\n",
    "# Fit a simple linear model and get the parameters\n",
    "model = linear_model.LinearRegression()\n",
    "reg = model.fit(X, y)\n",
    "y_pred = model.predict(X)\n",
    "b0_pred = reg.intercept_\n",
    "b1_pred = reg.coef_[0]\n",
    "\n",
    "estimate = pd.DataFrame(\n",
    "    {\n",
    "        \"estimate_x\": np.linspace(X.x1.min(), X.x1.max(), n),\n",
    "        \"estimate_y\": b0_pred + b1_pred * np.linspace(X.x1.min(), X.x1.max(), n),\n",
    "    }\n",
    ")\n",
    "\n",
    "# Calculate performance metrics\n",
    "tss = np.dot(y - y.mean(), y - y.mean())\n",
    "rss = np.dot(y_pred - y.mean(), y_pred - y.mean())\n",
    "ess = tss - rss\n",
    "\n",
    "mae = metrics.mean_absolute_error(y, y_pred)\n",
    "mse = metrics.mean_squared_error(y, y_pred)\n",
    "r2 = metrics.r2_score(y, y_pred)\n",
    "exp_var = metrics.explained_variance_score(y, y_pred)\n",
    "\n",
    "print(f\"Estimated beta_0 (intercept):               {b0_pred:0.4}\")\n",
    "print(f\"Estimated beta_1 (coefficient for x1):      {b1_pred:0.4}\")\n",
    "\n",
    "print(f\"TSS:                                        {tss:0.4}\")\n",
    "print(f\"RSS:                                        {rss:0.4}\")\n",
    "print(f\"ESS:                                        {ess:0.4}\")\n",
    "print(\n",
    "    f\"R^2 calculated from RSS and TSS:            {(1 - (rss/tss)):0.4} (note that the R^2 score below is 1-R^2)\"\n",
    ")\n",
    "\n",
    "print(f\"MAE:                                        {mae:0.4}\")\n",
    "print(f\"MSE:                                        {mse:0.4}\")\n",
    "print(f\"R^2 score:                                  {r2:0.4}\")\n",
    "print(f\"Explained variance score:                   {exp_var:0.4}\")\n",
    "\n",
    "# Plot the estimated relationship\n",
    "fig = go.Figure()\n",
    "fig.add_trace(\n",
    "    go.Scatter(\n",
    "        x=X.x1,\n",
    "        y=y,\n",
    "        name=\"Data sample\",\n",
    "        mode=\"markers\",\n",
    "        marker=dict(color=\"blue\", size=6, symbol=\"circle\"),\n",
    "    )\n",
    ")\n",
    "fig.add_trace(\n",
    "    go.Scatter(\n",
    "        x=X.x1,\n",
    "        y=y_noerror,\n",
    "        name=\"True relationsip\",\n",
    "        mode=\"lines\",\n",
    "        line=dict(color=\"blue\", width=1, dash=\"solid\"),\n",
    "    )\n",
    ")\n",
    "fig.add_trace(\n",
    "    go.Scatter(\n",
    "        x=estimate.estimate_x,\n",
    "        y=estimate.estimate_y,\n",
    "        name=\"Estimated relationsip\",\n",
    "        mode=\"lines\",\n",
    "        line=dict(color=\"red\", width=1, dash=\"solid\"),\n",
    "    )\n",
    ")\n",
    "fig.update_traces(hovertemplate=\"x: %{x:0.3f}\" + \"<br>y: %{y:0.3f}\")\n",
    "fig.update_layout(\n",
    "    template=\"plotly_white\",\n",
    "    width=800,\n",
    "    height=700,\n",
    "    title=\"A simple data set for linear regression with y = 2 + 0.5x1 + e\",\n",
    "    legend_title=\"Legend\",\n",
    "    showlegend=True,\n",
    ")\n",
    "fig.update_xaxes(title=\"x1: exogenous variable\", range=None, dtick=None)\n",
    "fig.update_yaxes(title=\"y: endogenous variable\", range=None, dtick=None)\n",
    "fig.show()\n",
    "\n",
    "# Residual plot\n",
    "fig = go.Figure()\n",
    "fig.add_trace(\n",
    "    go.Scatter(\n",
    "        x=X.x1,\n",
    "        y=y_pred - y,\n",
    "        name=\"Residuals\",\n",
    "        mode=\"markers\",\n",
    "        marker=dict(color=\"red\", size=6, symbol=\"circle\"),\n",
    "    )\n",
    ")\n",
    "fig.update_traces(hovertemplate=\"x: %{x:0.3f}\" + \"<br>y: %{y:0.3f}\")\n",
    "fig.update_layout(\n",
    "    template=\"plotly_white\",\n",
    "    width=800,\n",
    "    height=700,\n",
    "    title=\"Residual plot\",\n",
    "    legend_title=\"Legend\",\n",
    "    showlegend=True,\n",
    ")\n",
    "fig.update_xaxes(title=\"x1: exogenous variable\", range=None, dtick=None)\n",
    "fig.update_yaxes(title=\"Residuals\", range=None, dtick=None)\n",
    "fig.show()\n",
    "\n",
    "\n",
    "# QQ plot with some help from the statsmodels library\n",
    "qqplot_data = qqplot(y_pred, line=\"s\", ax=None).gca().lines\n",
    "fig = go.Figure()\n",
    "fig.add_trace(\n",
    "    go.Scatter(\n",
    "        x=qqplot_data[0].get_xdata(),\n",
    "        y=qqplot_data[0].get_ydata(),\n",
    "        name=\"Quantiles\",\n",
    "        mode=\"markers\",\n",
    "        marker=dict(color=\"black\", size=6, symbol=\"circle\"),\n",
    "    )\n",
    ")\n",
    "fig.add_trace(\n",
    "    go.Scatter(\n",
    "        x=qqplot_data[1].get_xdata(),\n",
    "        y=qqplot_data[1].get_ydata(),\n",
    "        name=\"Quantile equality\",\n",
    "        mode=\"lines\",\n",
    "        line=dict(color=\"grey\", width=1, dash=\"solid\"),\n",
    "    )\n",
    ")\n",
    "fig.update_traces(hovertemplate=\"x: %{x:0.3f}\" + \"<br>y: %{y:0.3f}\")\n",
    "fig.update_layout(\n",
    "    template=\"plotly_white\",\n",
    "    width=800,\n",
    "    height=700,\n",
    "    title=\"QQ plot of the data sample\",\n",
    "    legend_title=\"Legend\",\n",
    "    showlegend=True,\n",
    ")\n",
    "fig.update_xaxes(title=\"Theoretical quantile\", range=None, dtick=None)\n",
    "fig.update_yaxes(title=\"Sample quantile\", range=None, dtick=None)\n",
    "fig.show()\n",
    "\n",
    "plt.close()"
   ]
  },
  {
   "cell_type": "markdown",
   "metadata": {},
   "source": [
    "### Multiple linear regression and regularisation"
   ]
  },
  {
   "cell_type": "code",
   "execution_count": 4,
   "metadata": {},
   "outputs": [
    {
     "name": "stdout",
     "output_type": "stream",
     "text": [
      "==================================================\n",
      "Unregularised linear regression:\n",
      "Estimated beta_0 (intercept):               4.991\n",
      "Estimated beta_1 (coefficient for x1):      9.985\n",
      "Estimated beta_2 (coefficient for x2):      0.1065\n",
      "Estimated beta_3 (coefficient for x3):      -0.9968\n",
      "Estimated beta_4 (coefficient for x4):      -0.2812\n",
      "MSE:                                        0.009357\n",
      "R^2 score:                                  0.9989\n",
      "==================================================\n",
      "Lasso regression:\n",
      "Estimated beta_0 (intercept):               7.324\n",
      "Estimated beta_1 (coefficient for x1):      4.122\n",
      "Estimated beta_2 (coefficient for x2):      0.0\n",
      "Estimated beta_3 (coefficient for x3):      -0.0\n",
      "Estimated beta_4 (coefficient for x4):      -0.0\n",
      "MSE:                                        3.079\n",
      "R^2 score:                                  0.6431\n",
      "==================================================\n",
      "Lasso regression:\n",
      "Estimated beta_0 (intercept):               5.11\n",
      "Estimated beta_1 (coefficient for x1):      9.753\n",
      "Estimated beta_2 (coefficient for x2):      0.1036\n",
      "Estimated beta_3 (coefficient for x3):      -0.9911\n",
      "Estimated beta_4 (coefficient for x4):      -0.2882\n",
      "MSE:                                        0.0139\n",
      "R^2 score:                                  0.9984\n"
     ]
    }
   ],
   "source": [
    "# Generate a data sample with multiple exogenous variables and use regularised multiple linear regeression\n",
    "\n",
    "# Generate a sample\n",
    "n = 500\n",
    "X = pd.DataFrame(\n",
    "    {\n",
    "        \"x1\": np.random.random(n),\n",
    "        \"x2\": np.random.random(n),\n",
    "        \"x3\": np.random.random(n),\n",
    "        \"x4\": np.random.random(n),\n",
    "    }\n",
    ")\n",
    "b = [5, 10, 0.1, -1, -0.3]\n",
    "y_noerror = b[0] + pd.Series(np.dot(X, b[1:]))\n",
    "y = pd.Series(y_noerror + 0.1 * np.random.randn(n))\n",
    "\n",
    "# Fit an unregularised linear model and get the parameters\n",
    "model = linear_model.LinearRegression()\n",
    "reg = model.fit(X, y)\n",
    "y_pred = model.predict(X)\n",
    "b_pred = [reg.intercept_] + list(reg.coef_)\n",
    "\n",
    "# Calculate performance metrics\n",
    "tss = np.dot(y - y.mean(), y - y.mean())\n",
    "rss = np.dot(y_pred - y.mean(), y_pred - y.mean())\n",
    "ess = tss - rss\n",
    "\n",
    "mae = metrics.mean_absolute_error(y, y_pred)\n",
    "mse = metrics.mean_squared_error(y, y_pred)\n",
    "r2 = metrics.r2_score(y, y_pred)\n",
    "exp_var = metrics.explained_variance_score(y, y_pred)\n",
    "\n",
    "print(\"=\" * 50)\n",
    "print(f\"Unregularised linear regression:\")\n",
    "print(f\"Estimated beta_0 (intercept):               {b_pred[0]:0.4}\")\n",
    "for i in range(1, 5):\n",
    "    print(f\"Estimated beta_{i} (coefficient for x{i}):      {b_pred[i]:0.4}\")\n",
    "print(f\"MSE:                                        {mse:0.4}\")\n",
    "print(f\"R^2 score:                                  {r2:0.4}\")\n",
    "\n",
    "# ===================================================================================================\n",
    "# Lasso (L1 regularised) regression\n",
    "model = linear_model.Lasso(alpha=0.5)\n",
    "reg = model.fit(X, y)\n",
    "y_pred = model.predict(X)\n",
    "b_pred = [reg.intercept_] + list(reg.coef_)\n",
    "\n",
    "# Calculate performance metrics\n",
    "tss = np.dot(y - y.mean(), y - y.mean())\n",
    "rss = np.dot(y_pred - y.mean(), y_pred - y.mean())\n",
    "ess = tss - rss\n",
    "\n",
    "mae = metrics.mean_absolute_error(y, y_pred)\n",
    "mse = metrics.mean_squared_error(y, y_pred)\n",
    "r2 = metrics.r2_score(y, y_pred)\n",
    "exp_var = metrics.explained_variance_score(y, y_pred)\n",
    "\n",
    "print(\"=\" * 50)\n",
    "print(f\"Lasso regression:\")\n",
    "print(f\"Estimated beta_0 (intercept):               {b_pred[0]:0.4}\")\n",
    "for i in range(1, 5):\n",
    "    print(f\"Estimated beta_{i} (coefficient for x{i}):      {b_pred[i]:0.4}\")\n",
    "print(f\"MSE:                                        {mse:0.4}\")\n",
    "print(f\"R^2 score:                                  {r2:0.4}\")\n",
    "\n",
    "# ===================================================================================================\n",
    "# Ridge (L2 regularised) regression\n",
    "model = linear_model.Ridge(alpha=1)\n",
    "reg = model.fit(X, y)\n",
    "y_pred = model.predict(X)\n",
    "b_pred = [reg.intercept_] + list(reg.coef_)\n",
    "\n",
    "# Calculate performance metrics\n",
    "tss = np.dot(y - y.mean(), y - y.mean())\n",
    "rss = np.dot(y_pred - y.mean(), y_pred - y.mean())\n",
    "ess = tss - rss\n",
    "\n",
    "mae = metrics.mean_absolute_error(y, y_pred)\n",
    "mse = metrics.mean_squared_error(y, y_pred)\n",
    "r2 = metrics.r2_score(y, y_pred)\n",
    "exp_var = metrics.explained_variance_score(y, y_pred)\n",
    "\n",
    "print(\"=\" * 50)\n",
    "print(f\"Lasso regression:\")\n",
    "print(f\"Estimated beta_0 (intercept):               {b_pred[0]:0.4}\")\n",
    "for i in range(1, 5):\n",
    "    print(f\"Estimated beta_{i} (coefficient for x{i}):      {b_pred[i]:0.4}\")\n",
    "print(f\"MSE:                                        {mse:0.4}\")\n",
    "print(f\"R^2 score:                                  {r2:0.4}\")"
   ]
  },
  {
   "cell_type": "markdown",
   "metadata": {},
   "source": [
    "### Future work\n",
    "\n",
    "   * Use the statsmodels library\n",
    "   * Leverage\n",
    "   * Scale-location plots\n",
    "   * Outliers and Cook's distance\n",
    "   * Feature selection\n",
    "   * Multicollinearity and confounding variables\n",
    "   * Generalised linear models"
   ]
  }
 ],
 "metadata": {
  "kernelspec": {
   "display_name": ".venv",
   "language": "python",
   "name": "python3"
  },
  "language_info": {
   "codemirror_mode": {
    "name": "ipython",
    "version": 3
   },
   "file_extension": ".py",
   "mimetype": "text/x-python",
   "name": "python",
   "nbconvert_exporter": "python",
   "pygments_lexer": "ipython3",
   "version": "3.11.6"
  }
 },
 "nbformat": 4,
 "nbformat_minor": 2
}
